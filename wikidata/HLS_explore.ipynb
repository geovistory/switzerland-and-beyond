{
 "cells": [
  {
   "cell_type": "markdown",
   "id": "bd65223f-78ca-4643-908c-bc3d59eab253",
   "metadata": {},
   "source": [
    "## Explore HLS data in Wikidata"
   ]
  },
  {
   "cell_type": "code",
   "execution_count": 1,
   "id": "8e63eebd-efdd-44eb-a516-b6c6864359f2",
   "metadata": {},
   "outputs": [],
   "source": [
    "import sys\n",
    "from SPARQLWrapper import SPARQLWrapper, JSON\n",
    "import pandas as pd"
   ]
  },
  {
   "cell_type": "code",
   "execution_count": 8,
   "id": "e75a0d52-a907-4d66-a505-e4a35ea700e4",
   "metadata": {},
   "outputs": [],
   "source": [
    "### Importer un module de fonctions crée ad hoc\n",
    "## ATTENTION : le fichier 'sparql_functions.py' doit se trouver \n",
    "#   dans le même dossier que le présent carnet Jupyter afin que l'importation\n",
    "#   fonctionne correctement\n",
    "import sparql_functions as spqf"
   ]
  },
  {
   "cell_type": "code",
   "execution_count": null,
   "id": "2abb9aba-89e5-4577-8b4c-16e9b293c57d",
   "metadata": {},
   "outputs": [],
   "source": [
    "### Recharger le module après modification des fonctions dans le fichier du module\n",
    "# désactivé #  reload(spqf)"
   ]
  },
  {
   "cell_type": "code",
   "execution_count": 2,
   "id": "1c7ff71f-e3ee-4378-a0e0-f0a8d6bd2766",
   "metadata": {},
   "outputs": [],
   "source": [
    "endpoint_url = \"https://query.wikidata.org/sparql\""
   ]
  },
  {
   "cell_type": "code",
   "execution_count": 3,
   "id": "921ec91c-c162-4684-a2f5-797f5a3a864c",
   "metadata": {},
   "outputs": [],
   "source": [
    "query = \"\"\"SELECT ?type ?typeLabel (count(*) as ?freq)\n",
    "WHERE {\n",
    "  ?s wdt:P902 ?item;\n",
    "     wdt:P31 ?type.\n",
    "  SERVICE wikibase:label { bd:serviceParam wikibase:language \"[AUTO_LANGUAGE],en\". }\n",
    "}\n",
    "GROUP BY ?type ?typeLabel\n",
    "ORDER BY DESC(?freq)\n",
    "\"\"\""
   ]
  },
  {
   "cell_type": "code",
   "execution_count": 10,
   "id": "6ed4972a-35eb-40c0-80e3-23041ae0170d",
   "metadata": {
    "tags": []
   },
   "outputs": [
    {
     "name": "stdout",
     "output_type": "stream",
     "text": [
      "<class 'dict'>\n"
     ]
    }
   ],
   "source": [
    "### Exécuter la requête SPARQL enveloppée par cette fonction, \n",
    "# elle se trouve dans le biliothèque-utilisateur _sparql_functions.py_\n",
    "# le premier paramètre correspond au point d'accès SPARQL, le deuxième à la requête\n",
    "qr = spqf.get_json_sparql_result(endpoint_url,query)"
   ]
  },
  {
   "cell_type": "code",
   "execution_count": 11,
   "id": "7859d28d-a049-4d30-9775-9444933803d2",
   "metadata": {},
   "outputs": [
    {
     "data": {
      "text/plain": [
       "1418"
      ]
     },
     "execution_count": 11,
     "metadata": {},
     "output_type": "execute_result"
    }
   ],
   "source": [
    "# Nombre de lignes de la réponse\n",
    "len(qr['results']['bindings'])"
   ]
  },
  {
   "cell_type": "code",
   "execution_count": 72,
   "id": "b2e33f8d-e249-4893-abbb-e2439609781a",
   "metadata": {
    "scrolled": true,
    "tags": []
   },
   "outputs": [],
   "source": [
    "# Inspecter les n premières lignes du résultat\n",
    "\n",
    "def inspect_n_lines (qr, n = 1):\n",
    "    i = 0\n",
    "    for l in qr['results']['bindings']:\n",
    "        if i < n:\n",
    "            print(l)\n",
    "            i += 1"
   ]
  },
  {
   "cell_type": "code",
   "execution_count": null,
   "id": "f93ad178-2f0f-48b8-bfe3-ffe97f7184be",
   "metadata": {
    "scrolled": true,
    "tags": []
   },
   "outputs": [],
   "source": [
    "inspect_n_lines (qr, n = 2)"
   ]
  },
  {
   "cell_type": "code",
   "execution_count": 12,
   "id": "52abd3f1-92e0-4b3f-8bda-dd6647d7fe46",
   "metadata": {
    "scrolled": true
   },
   "outputs": [],
   "source": [
    "# Transformer le résultat en liste en utilisant une autre fonction de la bibliothèque utilisateur\n",
    "r = [l for l in spqf.sparql_result_to_list(qr) ]\n",
    "# r"
   ]
  },
  {
   "cell_type": "code",
   "execution_count": 14,
   "id": "6b0a1ff0-be03-4951-b145-67eaa5950372",
   "metadata": {},
   "outputs": [
    {
     "data": {
      "text/html": [
       "<div>\n",
       "<style scoped>\n",
       "    .dataframe tbody tr th:only-of-type {\n",
       "        vertical-align: middle;\n",
       "    }\n",
       "\n",
       "    .dataframe tbody tr th {\n",
       "        vertical-align: top;\n",
       "    }\n",
       "\n",
       "    .dataframe thead th {\n",
       "        text-align: right;\n",
       "    }\n",
       "</style>\n",
       "<table border=\"1\" class=\"dataframe\">\n",
       "  <thead>\n",
       "    <tr style=\"text-align: right;\">\n",
       "      <th></th>\n",
       "      <th>wikidata_uri</th>\n",
       "      <th>label</th>\n",
       "      <th>freq</th>\n",
       "    </tr>\n",
       "  </thead>\n",
       "  <tbody>\n",
       "    <tr>\n",
       "      <th>0</th>\n",
       "      <td>http://www.wikidata.org/entity/Q5</td>\n",
       "      <td>human</td>\n",
       "      <td>23825</td>\n",
       "    </tr>\n",
       "    <tr>\n",
       "      <th>1</th>\n",
       "      <td>http://www.wikidata.org/entity/Q70208</td>\n",
       "      <td>municipality of Switzerland</td>\n",
       "      <td>3286</td>\n",
       "    </tr>\n",
       "    <tr>\n",
       "      <th>2</th>\n",
       "      <td>http://www.wikidata.org/entity/Q8436</td>\n",
       "      <td>family</td>\n",
       "      <td>2350</td>\n",
       "    </tr>\n",
       "    <tr>\n",
       "      <th>3</th>\n",
       "      <td>http://www.wikidata.org/entity/Q685309</td>\n",
       "      <td>former municipality of Switzerland</td>\n",
       "      <td>1242</td>\n",
       "    </tr>\n",
       "    <tr>\n",
       "      <th>4</th>\n",
       "      <td>http://www.wikidata.org/entity/Q532</td>\n",
       "      <td>village</td>\n",
       "      <td>746</td>\n",
       "    </tr>\n",
       "  </tbody>\n",
       "</table>\n",
       "</div>"
      ],
      "text/plain": [
       "                             wikidata_uri                               label  \\\n",
       "0       http://www.wikidata.org/entity/Q5                               human   \n",
       "1   http://www.wikidata.org/entity/Q70208         municipality of Switzerland   \n",
       "2    http://www.wikidata.org/entity/Q8436                              family   \n",
       "3  http://www.wikidata.org/entity/Q685309  former municipality of Switzerland   \n",
       "4     http://www.wikidata.org/entity/Q532                             village   \n",
       "\n",
       "    freq  \n",
       "0  23825  \n",
       "1   3286  \n",
       "2   2350  \n",
       "3   1242  \n",
       "4    746  "
      ]
     },
     "execution_count": 14,
     "metadata": {},
     "output_type": "execute_result"
    }
   ],
   "source": [
    "df = pd.DataFrame(r)\n",
    "df.columns = ['wikidata_uri', 'label', 'freq']\n",
    "df.head()"
   ]
  },
  {
   "cell_type": "code",
   "execution_count": null,
   "id": "6040bee6-389b-4523-b3a4-7bf9079abc51",
   "metadata": {},
   "outputs": [],
   "source": []
  }
 ],
 "metadata": {
  "kernelspec": {
   "display_name": "Py3.10 sparql",
   "language": "python",
   "name": "py310_sparql"
  },
  "language_info": {
   "codemirror_mode": {
    "name": "ipython",
    "version": 3
   },
   "file_extension": ".py",
   "mimetype": "text/x-python",
   "name": "python",
   "nbconvert_exporter": "python",
   "pygments_lexer": "ipython3",
   "version": "3.10.9"
  }
 },
 "nbformat": 4,
 "nbformat_minor": 5
}
