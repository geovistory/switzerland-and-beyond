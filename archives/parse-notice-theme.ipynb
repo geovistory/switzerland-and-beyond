{
 "cells": [
  {
   "cell_type": "markdown",
   "metadata": {},
   "source": [
    "# Parse HLS themes notices"
   ]
  },
  {
   "cell_type": "markdown",
   "metadata": {},
   "source": [
    "The overall goal is to \"clean\" notices by removing html, links, abreviations etc from the notices. "
   ]
  },
  {
   "cell_type": "code",
   "execution_count": 1,
   "metadata": {},
   "outputs": [
    {
     "name": "stdout",
     "output_type": "stream",
     "text": [
      "[DB] Connecting to YELLOW database \"switzerland_and_beyond\" ... Connected!\n"
     ]
    }
   ],
   "source": [
    "import re\n",
    "import geovpylib.database as db\n",
    "from gmpykit.ipython import infos\n",
    "import gmpykit as kit\n",
    "\n",
    "\n",
    "eta = kit.Eta()\n",
    "db.connect_yellow('switzerland_and_beyond', execute=True)"
   ]
  },
  {
   "cell_type": "markdown",
   "metadata": {},
   "source": [
    "## Fetch the data"
   ]
  },
  {
   "cell_type": "code",
   "execution_count": 2,
   "metadata": {},
   "outputs": [
    {
     "name": "stdout",
     "output_type": "stream",
     "text": [
      "Shape:  (3089, 5) - extract:\n"
     ]
    },
    {
     "data": {
      "text/html": [
       "<div>\n",
       "<style scoped>\n",
       "    .dataframe tbody tr th:only-of-type {\n",
       "        vertical-align: middle;\n",
       "    }\n",
       "\n",
       "    .dataframe tbody tr th {\n",
       "        vertical-align: top;\n",
       "    }\n",
       "\n",
       "    .dataframe thead th {\n",
       "        text-align: right;\n",
       "    }\n",
       "</style>\n",
       "<table border=\"1\" class=\"dataframe\">\n",
       "  <thead>\n",
       "    <tr style=\"text-align: right;\">\n",
       "      <th></th>\n",
       "      <th>id</th>\n",
       "      <th>url</th>\n",
       "      <th>name</th>\n",
       "      <th>notice_html</th>\n",
       "      <th>notice</th>\n",
       "    </tr>\n",
       "  </thead>\n",
       "  <tbody>\n",
       "    <tr>\n",
       "      <th>0</th>\n",
       "      <td>2721</td>\n",
       "      <td>https://hls-dhs-dss.ch/fr/articles/007779</td>\n",
       "      <td>Grêle</td>\n",
       "      <td>Précipitation de grains de glace de 5 à 50&amp;nbs...</td>\n",
       "      <td>None</td>\n",
       "    </tr>\n",
       "    <tr>\n",
       "      <th>1</th>\n",
       "      <td>2734</td>\n",
       "      <td>https://hls-dhs-dss.ch/fr/articles/014889</td>\n",
       "      <td>Gachnang, affaire de</td>\n",
       "      <td>Hektor von Beroldingen ayant essayé de ramener...</td>\n",
       "      <td>None</td>\n",
       "    </tr>\n",
       "    <tr>\n",
       "      <th>2</th>\n",
       "      <td>2889</td>\n",
       "      <td>https://hls-dhs-dss.ch/fr/articles/026838</td>\n",
       "      <td>Ringgenberg, affaire de</td>\n",
       "      <td>Lorsque Petermann von Ringgenberg devint seign...</td>\n",
       "      <td>None</td>\n",
       "    </tr>\n",
       "    <tr>\n",
       "      <th>3</th>\n",
       "      <td>2890</td>\n",
       "      <td>https://hls-dhs-dss.ch/fr/articles/048330</td>\n",
       "      <td>Nidwaldner Volksblatt</td>\n",
       "      <td>Ancien journal du canton de Nidwald, le &lt;em&gt;&lt;s...</td>\n",
       "      <td>None</td>\n",
       "    </tr>\n",
       "    <tr>\n",
       "      <th>4</th>\n",
       "      <td>285</td>\n",
       "      <td>https://hls-dhs-dss.ch/fr/articles/017358</td>\n",
       "      <td>Mammelus</td>\n",
       "      <td>Surnom donné aux Genevois - par analogie aux m...</td>\n",
       "      <td>None</td>\n",
       "    </tr>\n",
       "  </tbody>\n",
       "</table>\n",
       "</div>"
      ],
      "text/plain": [
       "     id                                        url                     name  \\\n",
       "0  2721  https://hls-dhs-dss.ch/fr/articles/007779                    Grêle   \n",
       "1  2734  https://hls-dhs-dss.ch/fr/articles/014889     Gachnang, affaire de   \n",
       "2  2889  https://hls-dhs-dss.ch/fr/articles/026838  Ringgenberg, affaire de   \n",
       "3  2890  https://hls-dhs-dss.ch/fr/articles/048330    Nidwaldner Volksblatt   \n",
       "4   285  https://hls-dhs-dss.ch/fr/articles/017358                 Mammelus   \n",
       "\n",
       "                                         notice_html notice  \n",
       "0  Précipitation de grains de glace de 5 à 50&nbs...   None  \n",
       "1  Hektor von Beroldingen ayant essayé de ramener...   None  \n",
       "2  Lorsque Petermann von Ringgenberg devint seign...   None  \n",
       "3  Ancien journal du canton de Nidwald, le <em><s...   None  \n",
       "4  Surnom donné aux Genevois - par analogie aux m...   None  "
      ]
     },
     "metadata": {},
     "output_type": "display_data"
    }
   ],
   "source": [
    "themes = db.query('select * from hls.theme')\n",
    "infos(themes)"
   ]
  },
  {
   "cell_type": "markdown",
   "metadata": {},
   "source": [
    "## Update the table"
   ]
  },
  {
   "cell_type": "code",
   "execution_count": 3,
   "metadata": {},
   "outputs": [],
   "source": [
    "if \"notice\" not in themes.columns:\n",
    "    db.connect_yellow('switzerland_and_beyond', execute=True)\n",
    "    db.execute('alter table hls.person add notice varchar;')\n",
    "    db.connect_yellow('switzerland_and_beyond', execute=False)"
   ]
  },
  {
   "cell_type": "markdown",
   "metadata": {},
   "source": [
    "## Clean the HTML"
   ]
  },
  {
   "cell_type": "code",
   "execution_count": 46,
   "metadata": {},
   "outputs": [],
   "source": [
    "def handle_exponent(notice):\n",
    "    begin_words = '<sup><span locale=\"fr\">'\n",
    "    end_words = '</span></sup>'\n",
    "\n",
    "    while '<sup>' in notice:\n",
    "        try:\n",
    "            begin = notice.index(begin_words)\n",
    "            end = notice.index(end_words, begin) + len(end_words)\n",
    "            origin = notice[begin:end]\n",
    "            result = origin.replace(begin_words, '').replace(end_words, '')\n",
    "            notice = notice.replace(origin, result)\n",
    "        except: notice = notice\n",
    "    return notice\n",
    "\n",
    "def handle_ampersand(notice):\n",
    "    return notice.replace('&amp;', '&')\n",
    "\n",
    "\n",
    "def handle_italics(notice):\n",
    "    begin_words = '<em><span locale=\"fr\">'\n",
    "    end_words = '</span></em>'\n",
    "\n",
    "    while '<em>' in notice:\n",
    "        try:\n",
    "            begin = notice.index(begin_words)\n",
    "            end = notice.index(end_words, begin) + len(end_words)\n",
    "            origin = notice[begin:end]\n",
    "            result = origin.replace(begin_words, '').replace(end_words, '')\n",
    "            notice = notice.replace(origin, result)\n",
    "        except: notice = notice\n",
    "    return notice\n",
    "\n",
    "def replace_chars(notice):\n",
    "    notice = notice.replace('&nbsp;', ' ')\n",
    "    notice = notice.replace('&ZeroWidthSpace;', ' ')\n",
    "    notice = notice.replace('\\u200b', '')\n",
    "    return notice\n",
    "\n",
    "def expand_shortcuts(notice):\n",
    "    notice = notice.replace('cath.-chr.', 'catholique chrétien')\n",
    "    notice = notice.replace('cath.', 'catholique')\n",
    "    notice = notice.replace('prot.', 'protestant')\n",
    "    notice = notice.replace('comm.', 'commune de')\n",
    "    notice = notice.replace('auj.', 'aujourd\\'hui')\n",
    "    notice = notice.replace(' s.', ' siècle')\n",
    "    return notice\n",
    "\n",
    "\n",
    "def handle_links(notice):\n",
    "    begin_words = '<span class=\"wikilink\">'\n",
    "    end_words = '</span>'\n",
    "\n",
    "    while 'href' in notice:\n",
    "        try:\n",
    "            begin = notice.index(begin_words)\n",
    "            end = notice.index(end_words, begin) + len(end_words)\n",
    "            href_begin = notice.index('\"', notice.index('href')) + 1\n",
    "            href_end = notice.index('\"', href_begin)\n",
    "            origin = notice[begin:end]\n",
    "\n",
    "            link_content_begin = origin.index('>', origin.index('<a ')) + 1\n",
    "            link_content_end = origin.index('</a>')\n",
    "            link_content = origin[link_content_begin:link_content_end].strip()\n",
    "            link_content = link_content.replace('-&gt;', '')\n",
    "            if not link_content == '': \n",
    "                link_content += ' ('\n",
    "                suffix = ')'\n",
    "            else: suffix = ''\n",
    "            notice = notice.replace(origin, link_content + \"https://hls-dhs-dss.ch\" + notice[href_begin:href_end] + suffix)\n",
    "        except: \n",
    "            pass\n",
    "    \n",
    "    return notice\n",
    "\n",
    "def handle_notice(name, notice):\n",
    "\n",
    "    notice = notice.replace('wikiinternallink', 'wikilink')\n",
    "    \n",
    "    notice = handle_italics(notice)\n",
    "    notice = replace_chars(notice)\n",
    "    notice = handle_exponent(notice)\n",
    "    notice = handle_ampersand(notice)\n",
    "    notice = expand_shortcuts(notice)\n",
    "    notice = handle_links(notice)\n",
    "    \n",
    "\n",
    "    return notice.strip()"
   ]
  },
  {
   "cell_type": "code",
   "execution_count": 49,
   "metadata": {},
   "outputs": [
    {
     "name": "stdout",
     "output_type": "stream",
     "text": [
      "Cleaning notices - 3089 iterations in 00h01m29s (avg of 00h00m00s/iter)               \n"
     ]
    }
   ],
   "source": [
    "eta.begin(len(themes), \"Cleaning notices\")\n",
    "for i, row in themes.iterrows():\n",
    "    cleaned = handle_notice(row['name'], row['notice_html'])\n",
    "    db.execute(f\"\"\"\n",
    "        update hls.theme\n",
    "            set notice = '{cleaned.replace(\"'\", \"''\")}'\n",
    "        where id = {row['id']};\n",
    "    \"\"\")\n",
    "    eta.iter()\n",
    "eta.end()"
   ]
  },
  {
   "cell_type": "markdown",
   "metadata": {},
   "source": [
    "___"
   ]
  }
 ],
 "metadata": {
  "kernelspec": {
   "display_name": "Python 3",
   "language": "python",
   "name": "python3"
  },
  "language_info": {
   "codemirror_mode": {
    "name": "ipython",
    "version": 3
   },
   "file_extension": ".py",
   "mimetype": "text/x-python",
   "name": "python",
   "nbconvert_exporter": "python",
   "pygments_lexer": "ipython3",
   "version": "3.12.0"
  }
 },
 "nbformat": 4,
 "nbformat_minor": 2
}
