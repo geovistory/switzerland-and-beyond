{
 "cells": [
  {
   "cell_type": "markdown",
   "metadata": {},
   "source": [
    "# Parse HLS families notices"
   ]
  },
  {
   "cell_type": "markdown",
   "metadata": {},
   "source": [
    "The overall goal is to \"clean\" notices by removing html, links, abreviations etc from the notices. "
   ]
  },
  {
   "cell_type": "code",
   "execution_count": 15,
   "metadata": {},
   "outputs": [
    {
     "name": "stdout",
     "output_type": "stream",
     "text": [
      "[DB] Connecting to YELLOW database \"switzerland_and_beyond\" ... Connected!\n"
     ]
    }
   ],
   "source": [
    "import re\n",
    "import geovpylib.database as db\n",
    "from gmpykit.ipython import infos\n",
    "import gmpykit as kit\n",
    "\n",
    "\n",
    "eta = kit.Eta()\n",
    "db.connect_yellow('switzerland_and_beyond', execute=True)"
   ]
  },
  {
   "cell_type": "markdown",
   "metadata": {},
   "source": [
    "## Fetch the data"
   ]
  },
  {
   "cell_type": "code",
   "execution_count": 16,
   "metadata": {},
   "outputs": [
    {
     "name": "stdout",
     "output_type": "stream",
     "text": [
      "Shape:  (2539, 5) - extract:\n"
     ]
    },
    {
     "data": {
      "text/html": [
       "<div>\n",
       "<style scoped>\n",
       "    .dataframe tbody tr th:only-of-type {\n",
       "        vertical-align: middle;\n",
       "    }\n",
       "\n",
       "    .dataframe tbody tr th {\n",
       "        vertical-align: top;\n",
       "    }\n",
       "\n",
       "    .dataframe thead th {\n",
       "        text-align: right;\n",
       "    }\n",
       "</style>\n",
       "<table border=\"1\" class=\"dataframe\">\n",
       "  <thead>\n",
       "    <tr style=\"text-align: right;\">\n",
       "      <th></th>\n",
       "      <th>id</th>\n",
       "      <th>url</th>\n",
       "      <th>name</th>\n",
       "      <th>notice_html</th>\n",
       "      <th>notice</th>\n",
       "    </tr>\n",
       "  </thead>\n",
       "  <tbody>\n",
       "    <tr>\n",
       "      <th>0</th>\n",
       "      <td>998</td>\n",
       "      <td>https://hls-dhs-dss.ch/fr/articles/022780</td>\n",
       "      <td>Enk</td>\n",
       "      <td>Vieille famille d'Altstätten, dont la première...</td>\n",
       "      <td>None</td>\n",
       "    </tr>\n",
       "    <tr>\n",
       "      <th>1</th>\n",
       "      <td>18</td>\n",
       "      <td>https://hls-dhs-dss.ch/fr/articles/019509</td>\n",
       "      <td>Bechburg, von</td>\n",
       "      <td>Famille noble, attestée entre 1100 environ et ...</td>\n",
       "      <td>None</td>\n",
       "    </tr>\n",
       "    <tr>\n",
       "      <th>2</th>\n",
       "      <td>19</td>\n",
       "      <td>https://hls-dhs-dss.ch/fr/articles/019980</td>\n",
       "      <td>Beuggen, von</td>\n",
       "      <td>Famille de petite noblesse mentionnée dans la ...</td>\n",
       "      <td>None</td>\n",
       "    </tr>\n",
       "    <tr>\n",
       "      <th>3</th>\n",
       "      <td>29</td>\n",
       "      <td>https://hls-dhs-dss.ch/fr/articles/003013</td>\n",
       "      <td>Amman, d'</td>\n",
       "      <td>Famille patricienne originaire de Neyruz (FR),...</td>\n",
       "      <td>None</td>\n",
       "    </tr>\n",
       "    <tr>\n",
       "      <th>4</th>\n",
       "      <td>38</td>\n",
       "      <td>https://hls-dhs-dss.ch/fr/articles/022042</td>\n",
       "      <td>Belorsier</td>\n",
       "      <td>Famille bourgeoise de Saint-Ursanne, dont sont...</td>\n",
       "      <td>None</td>\n",
       "    </tr>\n",
       "  </tbody>\n",
       "</table>\n",
       "</div>"
      ],
      "text/plain": [
       "    id                                        url           name  \\\n",
       "0  998  https://hls-dhs-dss.ch/fr/articles/022780            Enk   \n",
       "1   18  https://hls-dhs-dss.ch/fr/articles/019509  Bechburg, von   \n",
       "2   19  https://hls-dhs-dss.ch/fr/articles/019980   Beuggen, von   \n",
       "3   29  https://hls-dhs-dss.ch/fr/articles/003013      Amman, d'   \n",
       "4   38  https://hls-dhs-dss.ch/fr/articles/022042      Belorsier   \n",
       "\n",
       "                                         notice_html notice  \n",
       "0  Vieille famille d'Altstätten, dont la première...   None  \n",
       "1  Famille noble, attestée entre 1100 environ et ...   None  \n",
       "2  Famille de petite noblesse mentionnée dans la ...   None  \n",
       "3  Famille patricienne originaire de Neyruz (FR),...   None  \n",
       "4  Famille bourgeoise de Saint-Ursanne, dont sont...   None  "
      ]
     },
     "metadata": {},
     "output_type": "display_data"
    }
   ],
   "source": [
    "families = db.query('select * from hls.family')\n",
    "infos(families)"
   ]
  },
  {
   "cell_type": "markdown",
   "metadata": {},
   "source": [
    "## Update the table"
   ]
  },
  {
   "cell_type": "code",
   "execution_count": 17,
   "metadata": {},
   "outputs": [],
   "source": [
    "if \"notice\" not in families.columns:\n",
    "    db.connect_yellow('switzerland_and_beyond', execute=True)\n",
    "    db.execute('alter table hls.person add notice varchar;')\n",
    "    db.connect_yellow('switzerland_and_beyond', execute=False)"
   ]
  },
  {
   "cell_type": "markdown",
   "metadata": {},
   "source": [
    "## Clean the HTML"
   ]
  },
  {
   "cell_type": "code",
   "execution_count": 18,
   "metadata": {},
   "outputs": [],
   "source": [
    "def handle_exponent(notice):\n",
    "    begin_words = '<sup><span locale=\"fr\">'\n",
    "    end_words = '</span></sup>'\n",
    "\n",
    "    while '<sup>' in notice:\n",
    "        try:\n",
    "            begin = notice.index(begin_words)\n",
    "            end = notice.index(end_words, begin) + len(end_words)\n",
    "            origin = notice[begin:end]\n",
    "            result = origin.replace(begin_words, '').replace(end_words, '')\n",
    "            notice = notice.replace(origin, result)\n",
    "        except: notice = notice\n",
    "    return notice\n",
    "\n",
    "def handle_ampersand(notice):\n",
    "    return notice.replace('&amp;', '&')\n",
    "\n",
    "\n",
    "def handle_italics(notice):\n",
    "    begin_words = '<em><span locale=\"fr\">'\n",
    "    end_words = '</span></em>'\n",
    "\n",
    "    while '<em>' in notice:\n",
    "        try:\n",
    "            begin = notice.index(begin_words)\n",
    "            end = notice.index(end_words, begin) + len(end_words)\n",
    "            origin = notice[begin:end]\n",
    "            result = origin.replace(begin_words, '').replace(end_words, '')\n",
    "            notice = notice.replace(origin, result)\n",
    "        except: notice = notice\n",
    "    return notice\n",
    "\n",
    "def replace_chars(notice):\n",
    "    notice = notice.replace('&nbsp;', ' ')\n",
    "    notice = notice.replace('&ZeroWidthSpace;', ' ')\n",
    "    notice = notice.replace('\\u200b', '')\n",
    "    return notice\n",
    "\n",
    "def expand_shortcuts(notice):\n",
    "    notice = notice.replace('cath.-chr.', 'catholique chrétien')\n",
    "    notice = notice.replace('cath.', 'catholique')\n",
    "    notice = notice.replace('prot.', 'protestant')\n",
    "    notice = notice.replace('comm.', 'commune de')\n",
    "    notice = notice.replace('distr.', 'district')\n",
    "    notice = notice.replace('Comm.', 'commune de')\n",
    "    notice = notice.replace('auj.', 'aujourd\\'hui')\n",
    "    notice = notice.replace(' s.', ' siècle')\n",
    "    notice = notice.replace(' hab.', ' habitants')\n",
    "    notice = notice.replace(' franç.', ' français')\n",
    "    return notice\n",
    "\n",
    "\n",
    "def handle_links(notice):\n",
    "    begin_words = '<span class=\"wikilink\">'\n",
    "    end_words = '</span>'\n",
    "\n",
    "    while 'href' in notice:\n",
    "        try:\n",
    "            begin = notice.index(begin_words)\n",
    "            end = notice.index(end_words, begin) + len(end_words)\n",
    "            href_begin = notice.index('\"', notice.index('href')) + 1\n",
    "            href_end = notice.index('\"', href_begin)\n",
    "            origin = notice[begin:end]\n",
    "\n",
    "            link_content_begin = origin.index('>', origin.index('<a ')) + 1\n",
    "            link_content_end = origin.index('</a>')\n",
    "            link_content = origin[link_content_begin:link_content_end].strip()\n",
    "            link_content = link_content.replace('-&gt;', '')\n",
    "            if not link_content == '': \n",
    "                link_content += ' ('\n",
    "                suffix = ')'\n",
    "            else: suffix = ''\n",
    "            notice = notice.replace(origin, link_content + \"https://hls-dhs-dss.ch\" + notice[href_begin:href_end] + suffix)\n",
    "        except: \n",
    "            pass\n",
    "    \n",
    "    return notice\n",
    "\n",
    "\n",
    "def expand_name(notice, name):\n",
    "    unique_caps_with_dot = re.findall(r'\\s([A-Z])\\.', notice)\n",
    "    for caps in unique_caps_with_dot:\n",
    "        notice = notice.replace(f' {caps}. ', ' ' + name + ' ')\n",
    "        notice = notice.replace(f' {caps}.,', ' ' + name + ' ')\n",
    "    return notice.replace(f'-{name[0:1]}.', f'-{name}')\n",
    "\n",
    "def handle_notice(name, notice):\n",
    "\n",
    "    notice = notice.replace('wikiinternallink', 'wikilink')\n",
    "    \n",
    "    notice = handle_italics(notice)\n",
    "    notice = replace_chars(notice)\n",
    "    notice = handle_exponent(notice)\n",
    "    notice = handle_ampersand(notice)\n",
    "    notice = expand_shortcuts(notice)\n",
    "    notice = handle_links(notice)\n",
    "    notice = expand_name(notice, name)\n",
    "    \n",
    "\n",
    "    return notice.strip()"
   ]
  },
  {
   "cell_type": "code",
   "execution_count": 19,
   "metadata": {},
   "outputs": [
    {
     "name": "stdout",
     "output_type": "stream",
     "text": [
      "Cleaning notices - 2539 iterations in 00h01m14s (avg of 00h00m00s/iter)               \n"
     ]
    }
   ],
   "source": [
    "eta.begin(len(families), \"Cleaning notices\")\n",
    "for i, row in families.iterrows():\n",
    "    cleaned = handle_notice(row['name'], row['notice_html'])\n",
    "    db.execute(f\"\"\"\n",
    "        update hls.family\n",
    "            set notice = '{cleaned.replace(\"'\", \"''\")}'\n",
    "        where id = {row['id']};\n",
    "    \"\"\")\n",
    "    eta.iter()\n",
    "eta.end()"
   ]
  },
  {
   "cell_type": "markdown",
   "metadata": {},
   "source": [
    "___"
   ]
  },
  {
   "cell_type": "code",
   "execution_count": null,
   "metadata": {},
   "outputs": [],
   "source": [
    "notice = families.sample(1).iloc[0]\n",
    "\n",
    "print(kit.wrap(handle_notice(notice['name'], notice['notice_html'])))"
   ]
  },
  {
   "cell_type": "code",
   "execution_count": null,
   "metadata": {},
   "outputs": [],
   "source": [
    "print(kit.wrap(handle_notice(notice['name'], notice['notice_html'])))"
   ]
  },
  {
   "cell_type": "code",
   "execution_count": null,
   "metadata": {},
   "outputs": [],
   "source": [
    "notice"
   ]
  }
 ],
 "metadata": {
  "kernelspec": {
   "display_name": "Python 3",
   "language": "python",
   "name": "python3"
  },
  "language_info": {
   "codemirror_mode": {
    "name": "ipython",
    "version": 3
   },
   "file_extension": ".py",
   "mimetype": "text/x-python",
   "name": "python",
   "nbconvert_exporter": "python",
   "pygments_lexer": "ipython3",
   "version": "3.12.0"
  }
 },
 "nbformat": 4,
 "nbformat_minor": 2
}
