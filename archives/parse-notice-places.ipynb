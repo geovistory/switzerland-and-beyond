{
 "cells": [
  {
   "cell_type": "markdown",
   "metadata": {},
   "source": [
    "# Parse HLS places notices"
   ]
  },
  {
   "cell_type": "markdown",
   "metadata": {},
   "source": [
    "The overall goal is to \"clean\" notices by removing html, links, abreviations etc from the notices. "
   ]
  },
  {
   "cell_type": "code",
   "execution_count": 1,
   "metadata": {},
   "outputs": [
    {
     "name": "stdout",
     "output_type": "stream",
     "text": [
      "[DB] Connecting to YELLOW database \"switzerland_and_beyond\" ... Connected!\n"
     ]
    }
   ],
   "source": [
    "import re\n",
    "import geovpylib.database as db\n",
    "from gmpykit.ipython import infos\n",
    "import gmpykit as kit\n",
    "\n",
    "\n",
    "eta = kit.Eta()\n",
    "db.connect_yellow('switzerland_and_beyond', execute=True)"
   ]
  },
  {
   "cell_type": "markdown",
   "metadata": {},
   "source": [
    "## Fetch the data"
   ]
  },
  {
   "cell_type": "code",
   "execution_count": 2,
   "metadata": {},
   "outputs": [
    {
     "name": "stdout",
     "output_type": "stream",
     "text": [
      "Shape:  (5351, 5) - extract:\n"
     ]
    },
    {
     "data": {
      "text/html": [
       "<div>\n",
       "<style scoped>\n",
       "    .dataframe tbody tr th:only-of-type {\n",
       "        vertical-align: middle;\n",
       "    }\n",
       "\n",
       "    .dataframe tbody tr th {\n",
       "        vertical-align: top;\n",
       "    }\n",
       "\n",
       "    .dataframe thead th {\n",
       "        text-align: right;\n",
       "    }\n",
       "</style>\n",
       "<table border=\"1\" class=\"dataframe\">\n",
       "  <thead>\n",
       "    <tr style=\"text-align: right;\">\n",
       "      <th></th>\n",
       "      <th>id</th>\n",
       "      <th>url</th>\n",
       "      <th>name</th>\n",
       "      <th>notice_html</th>\n",
       "      <th>notice</th>\n",
       "    </tr>\n",
       "  </thead>\n",
       "  <tbody>\n",
       "    <tr>\n",
       "      <th>0</th>\n",
       "      <td>28</td>\n",
       "      <td>https://hls-dhs-dss.ch/fr/articles/002345</td>\n",
       "      <td>Penthalaz</td>\n",
       "      <td>Comm. VD, distr. du Gros-de-Vaud, sur la rive ...</td>\n",
       "      <td>commune de VD, district du Gros-de-Vaud, sur l...</td>\n",
       "    </tr>\n",
       "    <tr>\n",
       "      <th>1</th>\n",
       "      <td>40</td>\n",
       "      <td>https://hls-dhs-dss.ch/fr/articles/001395</td>\n",
       "      <td>Jonschwil</td>\n",
       "      <td>Comm. SG, région de Wil, comprenant les villag...</td>\n",
       "      <td>commune de SG, région de Wil, comprenant les v...</td>\n",
       "    </tr>\n",
       "    <tr>\n",
       "      <th>2</th>\n",
       "      <td>41</td>\n",
       "      <td>https://hls-dhs-dss.ch/fr/articles/001324</td>\n",
       "      <td>Eggersriet</td>\n",
       "      <td>Comm. SG, région de Rorschach. Village-rue sit...</td>\n",
       "      <td>commune de SG, région de Rorschach. Village-ru...</td>\n",
       "    </tr>\n",
       "    <tr>\n",
       "      <th>3</th>\n",
       "      <td>59</td>\n",
       "      <td>https://hls-dhs-dss.ch/fr/articles/001166</td>\n",
       "      <td>Hägendorf</td>\n",
       "      <td>Comm. SO, distr. d'Olten, au pied sud du Jura....</td>\n",
       "      <td>commune de SO, district d'Olten, au pied sud d...</td>\n",
       "    </tr>\n",
       "    <tr>\n",
       "      <th>4</th>\n",
       "      <td>62</td>\n",
       "      <td>https://hls-dhs-dss.ch/fr/articles/001345</td>\n",
       "      <td>Rüthi (SG)</td>\n",
       "      <td>Comm. SG, région du Rheintal, comprenant les v...</td>\n",
       "      <td>commune de SG, région du Rheintal, comprenant ...</td>\n",
       "    </tr>\n",
       "  </tbody>\n",
       "</table>\n",
       "</div>"
      ],
      "text/plain": [
       "   id                                        url        name  \\\n",
       "0  28  https://hls-dhs-dss.ch/fr/articles/002345   Penthalaz   \n",
       "1  40  https://hls-dhs-dss.ch/fr/articles/001395   Jonschwil   \n",
       "2  41  https://hls-dhs-dss.ch/fr/articles/001324  Eggersriet   \n",
       "3  59  https://hls-dhs-dss.ch/fr/articles/001166   Hägendorf   \n",
       "4  62  https://hls-dhs-dss.ch/fr/articles/001345  Rüthi (SG)   \n",
       "\n",
       "                                         notice_html  \\\n",
       "0  Comm. VD, distr. du Gros-de-Vaud, sur la rive ...   \n",
       "1  Comm. SG, région de Wil, comprenant les villag...   \n",
       "2  Comm. SG, région de Rorschach. Village-rue sit...   \n",
       "3  Comm. SO, distr. d'Olten, au pied sud du Jura....   \n",
       "4  Comm. SG, région du Rheintal, comprenant les v...   \n",
       "\n",
       "                                              notice  \n",
       "0  commune de VD, district du Gros-de-Vaud, sur l...  \n",
       "1  commune de SG, région de Wil, comprenant les v...  \n",
       "2  commune de SG, région de Rorschach. Village-ru...  \n",
       "3  commune de SO, district d'Olten, au pied sud d...  \n",
       "4  commune de SG, région du Rheintal, comprenant ...  "
      ]
     },
     "metadata": {},
     "output_type": "display_data"
    }
   ],
   "source": [
    "places = db.query('select * from hls.place')\n",
    "infos(places)"
   ]
  },
  {
   "cell_type": "markdown",
   "metadata": {},
   "source": [
    "## Update the table"
   ]
  },
  {
   "cell_type": "code",
   "execution_count": 3,
   "metadata": {},
   "outputs": [],
   "source": [
    "if \"notice\" not in places.columns:\n",
    "    db.connect_yellow('switzerland_and_beyond', execute=True)\n",
    "    db.execute('alter table hls.person add notice varchar;')\n",
    "    db.connect_yellow('switzerland_and_beyond', execute=False)"
   ]
  },
  {
   "cell_type": "markdown",
   "metadata": {},
   "source": [
    "## Clean the HTML"
   ]
  },
  {
   "cell_type": "code",
   "execution_count": 4,
   "metadata": {},
   "outputs": [],
   "source": [
    "def handle_exponent(notice):\n",
    "    begin_words = '<sup><span locale=\"fr\">'\n",
    "    end_words = '</span></sup>'\n",
    "\n",
    "    while '<sup>' in notice:\n",
    "        try:\n",
    "            begin = notice.index(begin_words)\n",
    "            end = notice.index(end_words, begin) + len(end_words)\n",
    "            origin = notice[begin:end]\n",
    "            result = origin.replace(begin_words, '').replace(end_words, '')\n",
    "            notice = notice.replace(origin, result)\n",
    "        except: notice = notice\n",
    "    return notice\n",
    "\n",
    "def handle_ampersand(notice):\n",
    "    return notice.replace('&amp;', '&')\n",
    "\n",
    "\n",
    "def handle_italics(notice):\n",
    "    begin_words = '<em><span locale=\"fr\">'\n",
    "    end_words = '</span></em>'\n",
    "\n",
    "    while '<em>' in notice:\n",
    "        try:\n",
    "            begin = notice.index(begin_words)\n",
    "            end = notice.index(end_words, begin) + len(end_words)\n",
    "            origin = notice[begin:end]\n",
    "            result = origin.replace(begin_words, '').replace(end_words, '')\n",
    "            notice = notice.replace(origin, result)\n",
    "        except: notice = notice\n",
    "    return notice\n",
    "\n",
    "def replace_chars(notice):\n",
    "    notice = notice.replace('&nbsp;', ' ')\n",
    "    notice = notice.replace('&ZeroWidthSpace;', ' ')\n",
    "    notice = notice.replace('\\u200b', '')\n",
    "    return notice\n",
    "\n",
    "def expand_shortcuts(notice):\n",
    "    notice = notice.replace('cath.-chr.', 'catholique chrétien')\n",
    "    notice = notice.replace('cath.', 'catholique')\n",
    "    notice = notice.replace('prot.', 'protestant')\n",
    "    notice = notice.replace('comm.', 'commune de')\n",
    "    notice = notice.replace('distr.', 'district')\n",
    "    notice = notice.replace('Comm.', 'commune de')\n",
    "    notice = notice.replace('auj.', 'aujourd\\'hui')\n",
    "    notice = notice.replace(' s.', ' siècle')\n",
    "    notice = notice.replace(' hab.', ' habitants')\n",
    "    notice = notice.replace(' franç.', ' français')\n",
    "    return notice\n",
    "\n",
    "\n",
    "def handle_links(notice):\n",
    "    begin_words = '<span class=\"wikilink\">'\n",
    "    end_words = '</span>'\n",
    "\n",
    "    while 'href' in notice:\n",
    "        try:\n",
    "            begin = notice.index(begin_words)\n",
    "            end = notice.index(end_words, begin) + len(end_words)\n",
    "            href_begin = notice.index('\"', notice.index('href')) + 1\n",
    "            href_end = notice.index('\"', href_begin)\n",
    "            origin = notice[begin:end]\n",
    "\n",
    "            link_content_begin = origin.index('>', origin.index('<a ')) + 1\n",
    "            link_content_end = origin.index('</a>')\n",
    "            link_content = origin[link_content_begin:link_content_end].strip()\n",
    "            link_content = link_content.replace('-&gt;', '')\n",
    "            if not link_content == '': \n",
    "                link_content += ' ('\n",
    "                suffix = ')'\n",
    "            else: suffix = ''\n",
    "            notice = notice.replace(origin, link_content + \"https://hls-dhs-dss.ch\" + notice[href_begin:href_end] + suffix)\n",
    "        except: \n",
    "            pass\n",
    "    \n",
    "    return notice\n",
    "\n",
    "\n",
    "def expand_name(notice, name):\n",
    "    unique_caps_with_dot = re.findall(r'\\s([A-Z])\\.', notice)\n",
    "    for caps in unique_caps_with_dot:\n",
    "        notice = notice.replace(f' {caps}. ', ' ' + name + ' ')\n",
    "        notice = notice.replace(f' {caps}.,', ' ' + name + ' ')\n",
    "    return notice.replace(f'-{name[0:1]}.', f'-{name}')\n",
    "\n",
    "def handle_notice(name, notice):\n",
    "\n",
    "    notice = notice.replace('wikiinternallink', 'wikilink')\n",
    "    \n",
    "    notice = handle_italics(notice)\n",
    "    notice = replace_chars(notice)\n",
    "    notice = handle_exponent(notice)\n",
    "    notice = handle_ampersand(notice)\n",
    "    notice = expand_shortcuts(notice)\n",
    "    notice = handle_links(notice)\n",
    "    notice = expand_name(notice, name)\n",
    "    \n",
    "\n",
    "    return notice.strip()"
   ]
  },
  {
   "cell_type": "code",
   "execution_count": 5,
   "metadata": {},
   "outputs": [
    {
     "name": "stdout",
     "output_type": "stream",
     "text": [
      "Cleaning notices - 5351 iterations in 00h02m38s (avg of 00h00m00s/iter)               \n"
     ]
    }
   ],
   "source": [
    "eta.begin(len(places), \"Cleaning notices\")\n",
    "for i, row in places.iterrows():\n",
    "    cleaned = handle_notice(row['name'], row['notice_html'])\n",
    "    db.execute(f\"\"\"\n",
    "        update hls.place\n",
    "            set notice = '{cleaned.replace(\"'\", \"''\")}'\n",
    "        where id = {row['id']};\n",
    "    \"\"\")\n",
    "    eta.iter()\n",
    "eta.end()"
   ]
  },
  {
   "cell_type": "markdown",
   "metadata": {},
   "source": [
    "___"
   ]
  }
 ],
 "metadata": {
  "kernelspec": {
   "display_name": "Python 3",
   "language": "python",
   "name": "python3"
  },
  "language_info": {
   "codemirror_mode": {
    "name": "ipython",
    "version": 3
   },
   "file_extension": ".py",
   "mimetype": "text/x-python",
   "name": "python",
   "nbconvert_exporter": "python",
   "pygments_lexer": "ipython3",
   "version": "3.12.0"
  }
 },
 "nbformat": 4,
 "nbformat_minor": 2
}
