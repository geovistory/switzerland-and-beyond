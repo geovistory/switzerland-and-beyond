{
 "cells": [
  {
   "cell_type": "markdown",
   "metadata": {},
   "source": [
    "# Knowledge Extraction"
   ]
  },
  {
   "cell_type": "code",
   "execution_count": 21,
   "metadata": {},
   "outputs": [
    {
     "name": "stdout",
     "output_type": "stream",
     "text": [
      "[DB] Requests will not be executed\n",
      "[DB] Connecting to YELLOW database \"switzerland_and_beyond\" ... Connected!\n"
     ]
    },
    {
     "data": {
      "text/plain": [
       "<function spacy.pipeline.functions.merge_entities(doc: spacy.tokens.doc.Doc)>"
      ]
     },
     "execution_count": 21,
     "metadata": {},
     "output_type": "execute_result"
    }
   ],
   "source": [
    "import json, requests, re\n",
    "import numpy as np, pandas as pd\n",
    "\n",
    "import geovpylib.database as db\n",
    "import geovdata.sparql as sparql\n",
    "import geovdata.kit as kit\n",
    "\n",
    "import spacy\n",
    "import scipy\n",
    "\n",
    "db.connect_yellow('switzerland_and_beyond')\n",
    "\n",
    "def ask_ollama(prompt, model='mistral'):\n",
    "    url='http://localhost:11434/api/generate'\n",
    "    response = requests.post(url, json={'model':model,'prompt':prompt, 'option':{'temperature':0}})\n",
    "    text = response.text.strip()\n",
    "    lines = text.split('\\n')\n",
    "    tokens = list(map(lambda line: json.loads(line)['response'], lines))\n",
    "    formated = ''.join(tokens)\n",
    "    answer = formated.strip()\n",
    "    return answer\n",
    "\n",
    "\n",
    "nlp = spacy.load('en_core_web_lg')\n",
    "nlp.add_pipe(\"merge_entities\")"
   ]
  },
  {
   "cell_type": "markdown",
   "metadata": {},
   "source": [
    "# Raw text"
   ]
  },
  {
   "cell_type": "code",
   "execution_count": 2,
   "metadata": {},
   "outputs": [
    {
     "name": "stdout",
     "output_type": "stream",
     "text": [
      "Naît le 19.11.1932 à Rupperswil, meurt le 5.11.1966 à Zurich, d'Untersiggenthal. Fils d'Ernst Friedrich, maître d'école secondaire, et de Margrit\n",
      "Kyburz. Marié(e) à Anna Maria Chabloz, fille de Jean Pierre. Etudes d'architecture à l'EPF de Zurich, diplôme en 1958. Séjour de plusieurs mois à\n",
      "Stockholm (1958-1959) et au Brésil (en 1959, puis vers 1962). Hans Ulrich Scherer est connu pour avoir eu l'idée pionnière de quartiers d'habitation\n",
      "implantés en terrasse, à flanc de coteau. Il établit les plans et réalisa, avec ses partenaires, des quartiers modèles à Klingnau, Umiken et\n",
      "Oberrohrdorf. Ses réalisations et ses articles spécialisés sont à l'origine de l'intérêt marqué des architectes suisses pour les quartiers en\n",
      "terrasse.\n"
     ]
    }
   ],
   "source": [
    "persons = db.query(f'select * from hls.person')\n",
    "\n",
    "person = persons.sample(1).iloc[0]\n",
    "name = person['name']\n",
    "notice = person['notice']\n",
    "\n",
    "print(kit.wrap(notice))"
   ]
  },
  {
   "cell_type": "markdown",
   "metadata": {},
   "source": [
    "# Pseudo structured data"
   ]
  },
  {
   "cell_type": "code",
   "execution_count": 3,
   "metadata": {},
   "outputs": [],
   "source": [
    "llm_response = ask_ollama(f\"\"\"\n",
    "Provide me all the statements you understand from the following text.\n",
    "Statements should be short, concise like RDF triples.\n",
    "If date are provided, they should have the following format: day.month.year\n",
    "Nothing should be implied.\n",
    "                    \n",
    "Text: \"About {name}. {notice}\"\n",
    "\"\"\")\n",
    "# print(llm_response)"
   ]
  },
  {
   "cell_type": "code",
   "execution_count": 4,
   "metadata": {},
   "outputs": [
    {
     "name": "stdout",
     "output_type": "stream",
     "text": [
      "Hans Ulrich Scherer was born on 19.11.1932 in Rupperswil.\n",
      "Hans Ulrich Scherer died on 5.11.1966 in Zurich.\n",
      "Hans Ulrich Scherer's parents were Ernst Friedrich, a secondary school teacher, and Margrit Kyburz.\n",
      "Hans Ulrich Scherer married Anna Maria Chabloz, daughter of Jean Pierre.\n",
      "Hans Ulrich Scherer studied architecture at the EPF Zurich and graduated in 1958.\n",
      "Hans Ulrich Scherer spent several months in Stockholm between 1958 and 1959.\n",
      "Hans Ulrich Scherer spent time in Brazil around 1959 and sometime around 1962.\n",
      "Hans Ulrich Scherer is known for his pioneering idea of housing estates built on terraces, on the side of a slope.\n",
      "Hans Ulrich Scherer designed and implemented model housing estates in Klingnau, Umiken and Oberrohrdorf.\n",
      "Hans Ulrich Scherer's works and specialized articles influenced the interest of Swiss architects in terraced housing estates.\n"
     ]
    }
   ],
   "source": [
    "assertions = llm_response.split(\"\\n\")\n",
    "assertions = [text[text.find(' ') + 1:] for text in assertions]\n",
    "\n",
    "for assertion in assertions:\n",
    "    print(assertion)"
   ]
  },
  {
   "cell_type": "markdown",
   "metadata": {},
   "source": [
    "# Extract structured data"
   ]
  },
  {
   "cell_type": "markdown",
   "metadata": {},
   "source": [
    "## Code the extraction"
   ]
  },
  {
   "cell_type": "markdown",
   "metadata": {},
   "source": [
    "**Tool functions**"
   ]
  },
  {
   "cell_type": "code",
   "execution_count": 9,
   "metadata": {},
   "outputs": [],
   "source": [
    "# To have a unique index\n",
    "index = 0\n",
    "def get_index():\n",
    "    global index\n",
    "    index += 1\n",
    "    return index\n",
    "\n",
    "\n",
    "# Parse a date: 31.12.2020 => (2020, 12, 31)\n",
    "def parse_date(number):\n",
    "    splitted = number.split('.')\n",
    "    if len(splitted) == 3: return (int(splitted[2]), int(splitted[1]), int(splitted[0]))\n",
    "    print(number)\n",
    "    return int(number)\n"
   ]
  },
  {
   "cell_type": "markdown",
   "metadata": {},
   "source": [
    "**BIRTHS**"
   ]
  },
  {
   "cell_type": "code",
   "execution_count": 17,
   "metadata": {},
   "outputs": [],
   "source": [
    "def handle_birth(doc, verbose=False):\n",
    "\n",
    "    # Detetion parameters\n",
    "    exact_words = ['birth', 'born']\n",
    "    lemmas = ['born']\n",
    "\n",
    "    # Detection\n",
    "    extract = False\n",
    "    for token in doc:\n",
    "        if token.text in exact_words: extract = True\n",
    "        if token.lemma in lemmas: extract = True\n",
    "        if extract: break\n",
    "    if not extract: return []\n",
    "\n",
    "\n",
    "    # Extraction\n",
    "    if verbose: print(f'BIRTH')\n",
    "    pk_birth = get_index()\n",
    "\n",
    "    # Extract persons\n",
    "    persons = list(filter(lambda entity: entity.label_ == \"PERSON\", doc.ents))\n",
    "    if len(persons) > 0: \n",
    "        if verbose: print(\"-- Person(s) found:\", persons)\n",
    "        pk_person = get_index()\n",
    "        yield (f\"Birth ({pk_birth})\", \"brought into life\", f\"{persons[0].text} ({pk_person})\") \n",
    "\n",
    "    # Extract dates\n",
    "    numbers = list(filter(lambda token: token.pos_ == \"NUM\", doc))\n",
    "    if len(numbers) > 0: \n",
    "        if verbose: print(\"-- Number(s) found:\", numbers)\n",
    "        yield (f\"Birth ({pk_birth})\", \"at some time within\", parse_date(numbers[0].text))\n",
    "\n",
    "    # Extract places\n",
    "    gpes = list(filter(lambda entity: entity.label_ == \"GPE\", doc.ents))\n",
    "    if len(gpes) > 0: \n",
    "        if verbose: print(\"-- GPE(s) found:\", gpes)\n",
    "        pk_place = get_index()\n",
    "        yield (f\"Birth ({pk_birth})\", \"took place at\", f\"{gpes[0].text} ({pk_place})\")"
   ]
  },
  {
   "cell_type": "markdown",
   "metadata": {},
   "source": [
    "**DEATH**"
   ]
  },
  {
   "cell_type": "code",
   "execution_count": 15,
   "metadata": {},
   "outputs": [],
   "source": [
    "def handle_death(doc, verbose=False):\n",
    "    \n",
    "    # Detetion parameters\n",
    "    exact_words = ['death', 'died']\n",
    "    lemmas = ['died']\n",
    "\n",
    "    # Detection\n",
    "    extract = False\n",
    "    for token in doc:\n",
    "        if token.text in exact_words: extract = True\n",
    "        if token.lemma in lemmas: extract = True\n",
    "        if extract: break\n",
    "    if not extract: return []\n",
    "\n",
    "\n",
    "    # Extraction\n",
    "    if verbose: print(f'DEATH')\n",
    "    pk_death = get_index()\n",
    "\n",
    "    # Extract persons\n",
    "    persons = list(filter(lambda entity: entity.label_ == \"PERSON\", doc.ents))\n",
    "    if len(persons) > 0: \n",
    "        if verbose: print(\"-- Person(s) found:\", persons)\n",
    "        pk_person = get_index()\n",
    "        yield (f\"Death ({pk_death})\", \"was death of\", f\"{persons[0].text} ({pk_person})\") \n",
    "\n",
    "    # Extract dates\n",
    "    numbers = list(filter(lambda token: token.pos_ == \"NUM\", doc))\n",
    "    if len(numbers) > 0: \n",
    "        if verbose: print(\"-- Number(s) found:\", numbers)\n",
    "        yield (f\"Death ({pk_death})\", \"at some time within\", parse_date(numbers[0].text))\n",
    "\n",
    "    # Extract places\n",
    "    gpes = list(filter(lambda entity: entity.label_ == \"GPE\", doc.ents))\n",
    "    if len(gpes) > 0: \n",
    "        if verbose: print(\"-- GPE(s) found:\", gpes)\n",
    "        pk_place = get_index()\n",
    "        yield (f\"Death ({pk_death})\", \"took place at\", f\"{gpes[0].text} ({pk_place})\")"
   ]
  },
  {
   "cell_type": "markdown",
   "metadata": {},
   "source": [
    "**CONFESSION**"
   ]
  },
  {
   "cell_type": "code",
   "execution_count": 33,
   "metadata": {},
   "outputs": [],
   "source": [
    "def handle_confession(doc, verbose=False):\n",
    "\n",
    "    confessions = ['catholic', 'protestant']\n",
    "\n",
    "    extract = False\n",
    "    for token in doc:\n",
    "        if token.lemma_ in confessions:\n",
    "            extract = True\n",
    "            break\n",
    "    if not extract: return []\n",
    "    \n",
    "\n",
    "    # Extraction\n",
    "    if verbose: print(f'CONFESSION')\n",
    "\n",
    "    # Extract confession\n",
    "    confessions = list(filter(lambda entity: entity.label_ == \"NORP\", doc.ents))\n",
    "    if len(confessions) > 0:\n",
    "        pk_confession = get_index()\n",
    "        if verbose: print(\"-- NORP(s) found:\", confessions)\n",
    "\n",
    "    # Extract person\n",
    "    persons = list(filter(lambda entity: entity.label_ == \"PERSON\", doc.ents))\n",
    "    if len(persons) > 0: \n",
    "        if verbose: print(\"-- Person(s) found:\", persons)\n",
    "        pk_person = get_index()\n",
    "    \n",
    "\n",
    "    # Return\n",
    "    if len(confessions) == 1 and len(persons) == 1:\n",
    "        return (f\"{confessions[0].text} ({pk_confession})\", \"pertains to\", f\"{persons[0].text} ({pk_person})\") \n",
    "    else:\n",
    "        print('---')\n",
    "        print('Error in extracting confession')\n",
    "        print('Doc:', doc)\n",
    "        print('Confessions:', confessions)\n",
    "        print('Persons:', persons)\n",
    "        print('---')\n",
    "        return []"
   ]
  },
  {
   "cell_type": "markdown",
   "metadata": {},
   "source": [
    "## Extract the graph"
   ]
  },
  {
   "cell_type": "code",
   "execution_count": 34,
   "metadata": {},
   "outputs": [
    {
     "name": "stdout",
     "output_type": "stream",
     "text": [
      "Hans Ulrich Scherer was born on 19.11.1932 in Rupperswil.\n",
      "Hans Ulrich Scherer died on 5.11.1966 in Zurich.\n",
      "Hans Ulrich Scherer's parents were Ernst Friedrich, a secondary school teacher, and Margrit Kyburz.\n",
      "Hans Ulrich Scherer married Anna Maria Chabloz, daughter of Jean Pierre.\n",
      "Hans Ulrich Scherer studied architecture at the EPF Zurich and graduated in 1958.\n",
      "Hans Ulrich Scherer spent several months in Stockholm between 1958 and 1959.\n",
      "Hans Ulrich Scherer spent time in Brazil around 1959 and sometime around 1962.\n",
      "Hans Ulrich Scherer is known for his pioneering idea of housing estates built on terraces, on the side of a slope.\n",
      "Hans Ulrich Scherer designed and implemented model housing estates in Klingnau, Umiken and Oberrohrdorf.\n",
      "Hans Ulrich Scherer's works and specialized articles influenced the interest of Swiss architects in terraced housing estates.\n"
     ]
    }
   ],
   "source": [
    "graph = []\n",
    "\n",
    "for doc in nlp.pipe(assertions):\n",
    "    print(doc)\n",
    "    graph += handle_birth(doc, False)\n",
    "    graph += handle_death(doc, False)\n",
    "    graph += handle_confession(doc, True)\n"
   ]
  },
  {
   "cell_type": "code",
   "execution_count": 35,
   "metadata": {},
   "outputs": [
    {
     "name": "stdout",
     "output_type": "stream",
     "text": [
      "('Birth (48)', 'brought into life', 'Hans Ulrich Scherer (49)')\n",
      "('Birth (48)', 'at some time within', (1932, 11, 19))\n",
      "('Death (50)', 'was death of', 'Hans Ulrich Scherer (51)')\n",
      "('Death (50)', 'at some time within', (1966, 11, 5))\n",
      "('Death (50)', 'took place at', 'Zurich (52)')\n"
     ]
    }
   ],
   "source": [
    "for triplet in graph:\n",
    "    print(triplet)"
   ]
  }
 ],
 "metadata": {
  "kernelspec": {
   "display_name": "Python 3",
   "language": "python",
   "name": "python3"
  },
  "language_info": {
   "codemirror_mode": {
    "name": "ipython",
    "version": 3
   },
   "file_extension": ".py",
   "mimetype": "text/x-python",
   "name": "python",
   "nbconvert_exporter": "python",
   "pygments_lexer": "ipython3",
   "version": "3.12.0"
  }
 },
 "nbformat": 4,
 "nbformat_minor": 2
}
