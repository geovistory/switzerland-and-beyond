{
 "cells": [
  {
   "cell_type": "markdown",
   "metadata": {},
   "source": [
    "# Extract information from public endpoints"
   ]
  },
  {
   "cell_type": "code",
   "execution_count": 20,
   "metadata": {},
   "outputs": [],
   "source": [
    "import pandas as pd, json\n",
    "\n",
    "import geovdata.sparql as sparql\n",
    "import geovdata.kit as kit\n",
    "\n",
    "from gmpykit.ipython import infos"
   ]
  },
  {
   "cell_type": "markdown",
   "metadata": {},
   "source": [
    "## Religions"
   ]
  },
  {
   "cell_type": "markdown",
   "metadata": {},
   "source": [
    "### Wikidata"
   ]
  },
  {
   "cell_type": "code",
   "execution_count": 21,
   "metadata": {},
   "outputs": [
    {
     "name": "stdout",
     "output_type": "stream",
     "text": [
      ">> SPARQL endpoint of Wikidata connected.\n"
     ]
    },
    {
     "data": {
      "text/plain": [
       "'[\"islam\", \"buddhism\", \"discordianism\", \"hinduism\", \"jainism\", \"judaism\", \"confucianism\", \"taoism\", \"zoroastrianism\", \"bah\\\\u00e1\\\\u02bc\\\\u00ed faith\", \"jewish renewal\", \"shamanism\", \"animism\", \"rastafari\", \"unitarianism\", \"traditional anglican communion\", \"scientology\", \"atenism\", \"catharism\", \"modern paganism\", \"historical vedic religion\", \"b\\\\u00e1bism\", \"modern asatru\", \"laveyan satanism\", \"sumerian religion\", \"heathenry\", \"haitian vodou\", \"ancient roman religion\", \"ngor\", \"australian aboriginal mythology\", \"gallo-roman religion\", \"traditional african religion\", \"hanif\", \"religion in pre-islamic arabia\", \"religion of ancient egypt\", \"midewiwin\", \"anglo-catholicism\", \"yuzu nembutsu\", \"kadam\", \"mun\", \"soka gakkai\", \"jeung san do\", \"nauruan indigenous religion\", \"theophilanthropy\", \"gallicanism\", \"thelema\", \"candombl\\\\u00e9\", \"aztec religion\", \"drukpa lineage\", \"mari religion\", \"babylonian religion\", \"nichiren sh\\\\u014dsh\\\\u016b\", \"tengrism\", \"badimo\", \"brahmanism\", \"ryukyuan religion\", \"universalist church of america\", \"bori religion\", \"native american church\", \"cross and crown\", \"spiritual christianity\", \"ugaritic religion\", \"bwiti\", \"chinese folk religion\", \"kemetism\", \"yoruba religion\", \"finnish neopaganism\", \"germanic paganism\", \"daoyuan\", \"cult of reason\", \"eckankar\", \"low church\", \"proto-indo-european mythology\", \"zurvanism\", \"homaranismo\", \"if\\\\u00e1\", \"umbanda\", \"gottgl\\\\u00e4ubig\", \"akan religion\", \"proto-indo-iranian religion\", \"ariosophy\", \"pai m\\\\u0101rire\", \"hellenistic judaism\", \"surat shabd yoga\", \"punic religion\", \"the new church\", \"tensh\\\\u014d k\\\\u014dtai jing\\\\u016bky\\\\u014d\", \"religion of humanity\", \"modekngei\", \"santo daime\", \"matha\", \"sukyo mahikari\", \"roman polytheistic reconstructionism\", \"din-e ilahi\", \"gardnerian wicca\", \"wetu telu thoriqoh\", \"makuya church\", \"palo mayombe\", \"vianova\", \"terasem movement\", \"kingdom movement\", \"sun descendants\", \"daba\", \"winningjahrian\", \"bell church\", \"asatru\", \"aluk todolo\", \"big drum\", \"c3woc\", \"jamaican maroon religion\", \"ancient druidism\", \"umbandism\", \"daijokyo\", \"arar\\\\u00e1 religion\", \"gwanseonggyo\", \"hangui\", \"hetanism\", \"houkoukai\", \"dogon religion\", \"adat musi\", \"undenominationalism\", \"abwoi religion\", \"meiteism\", \"native american religion in north america\", \"baalism\", \"white american religion\", \"wesenmystik\", \"samnite religion\", \"efik religion\", \"traditional choctaw religion\", \"syriac orthodox christianity\", \"dunamis international gospel centre\", \"jeungsangyo bonbu\", \"hlai folk religion\", \"mango worship\", \"kushite religion\", \"sabine religion\", \"international horse procession hakendover tienen\", \"pilgrim\\'s table at saint julian\\\\u2019s hospital\", \"st anthony\\'s day celebrations in flanders\", \"quirinus procession loenhout\", \"philistine religion\", \"phoenician religion\", \"om lovers\", \"psychedelic venus church\", \"insanulhaq\", \"sibook\", \"st mathew\\\\u2019s anglican church maitama abuja\", \"traditional berber religion\", \"winti\", \"beliefs and practices of the church of jesus christ of latter-day saints\", \"canaanite religion\", \"feri tradition\", \"nicene christianity\", \"detachment\", \"hypsistarians\", \"polytheistic reconstructionism\", \"mazdaism\", \"hittite religion\", \"elamite religion\", \"sallekhana\", \"harrisme\", \"natib qadish\", \"theology of huldrych zwingli\", \"louisiana voodoo\", \"antonianism\", \"donyi-polo\", \"second temple judaism\", \"adi dharm\", \"tai folk religion\", \"anupa\", \"apokpa marup\", \"arab-muslims\", \"arathi\", \"bimoism\", \"brahmo\", \"brahmoism\", \"neo-theosophy\", \"church of aphrodite\", \"collyridianism\", \"native american religions\", \"\\\\u0111\\\\u1ea1o m\\\\u1eabu\", \"earthseed\", \"emissaries of divine light\", \"haymanot\", \"heaven worship\", \"ignatian spirituality\", \"mundial church of god\\'s power\", \"international peace mission movement\", \"preanimism\", \"judaism\\'s view on muhammad\", \"knights of seth\", \"laestadianism in america\", \"longhouse religion\", \"mapuche religion\", \"mesoamerican religion\", \"samaritanism\", \"primitive baptists\", \"religion and ritual of the cucuteni\\\\u2013trypillian culture\", \"religion in space\", \"pelebegu\", \"sanamahism\", \"sarnaism\", \"yarsanism\", \"temple of the true inner light\", \"urreligion\", \"igreja crist\\\\u00e3 maranata\", \"religious confucianism\", \"nyoraikyo\", \"kid\\\\u014d\", \"church universal and triumphant\", \"etruscan religion\", \"visigothic arianism\", \"kalash religion\", \"coconut religion\", \"arminianism\", \"pastafarianism\", \"ancestrality\", \"gonabadi dervish\", \"svetosavlje\", \"hanolgyo\", \"berber christians\", \"mordvin native religion\", \"yazidism\", \"druzism\", \"gnostic church of france\", \"ancient mesopotamian religion\", \"cosmotheism\", \"ashurism\", \"nabataean religion\", \"madhwa brahmins\", \"muisca religion\", \"ground crew project\"]'"
      ]
     },
     "execution_count": 21,
     "metadata": {},
     "output_type": "execute_result"
    }
   ],
   "source": [
    "sparql.connect_well_known('wikidata')\n",
    "religions = sparql.query(\"\"\"\n",
    "    select ?religionLabel ?religion\n",
    "    where { \n",
    "        ?religion wdt:P31 wd:Q9174 .\n",
    "                \n",
    "        SERVICE wikibase:label { bd:serviceParam wikibase:language \"en\". }\n",
    "    }\n",
    "\"\"\")\n",
    "\n",
    "# Filter out those with no label on wikidata\n",
    "religions = religions[[row['religionLabel'] not in row['religion'] for _, row in religions.iterrows()]]\n",
    "\n",
    "# Formating\n",
    "religions['religionLabel'] = religions['religionLabel'].str.lower()\n",
    "\n",
    "\n",
    "religions_names = religions['religionLabel'].tolist()\n",
    "json.dumps(religions_names)"
   ]
  },
  {
   "cell_type": "markdown",
   "metadata": {},
   "source": [
    "# Occupations"
   ]
  },
  {
   "cell_type": "markdown",
   "metadata": {},
   "source": [
    "## 1./ Get all occupation/profession from Wikidata"
   ]
  },
  {
   "cell_type": "code",
   "execution_count": 2,
   "metadata": {},
   "outputs": [
    {
     "name": "stdout",
     "output_type": "stream",
     "text": [
      ">> SPARQL endpoint of Wikidata connected.\n"
     ]
    }
   ],
   "source": [
    "sparql.connect_well_known('wikidata')"
   ]
  },
  {
   "cell_type": "markdown",
   "metadata": {},
   "source": [
    "### 1.a/ Professions"
   ]
  },
  {
   "cell_type": "code",
   "execution_count": 3,
   "metadata": {},
   "outputs": [
    {
     "name": "stdout",
     "output_type": "stream",
     "text": [
      "Shape:  (9173, 4) - extract:\n"
     ]
    },
    {
     "data": {
      "text/html": [
       "<div>\n",
       "<style scoped>\n",
       "    .dataframe tbody tr th:only-of-type {\n",
       "        vertical-align: middle;\n",
       "    }\n",
       "\n",
       "    .dataframe tbody tr th {\n",
       "        vertical-align: top;\n",
       "    }\n",
       "\n",
       "    .dataframe thead th {\n",
       "        text-align: right;\n",
       "    }\n",
       "</style>\n",
       "<table border=\"1\" class=\"dataframe\">\n",
       "  <thead>\n",
       "    <tr style=\"text-align: right;\">\n",
       "      <th></th>\n",
       "      <th>wikidata_uri</th>\n",
       "      <th>wikidata_label</th>\n",
       "      <th>wikidata_description</th>\n",
       "      <th>count</th>\n",
       "    </tr>\n",
       "  </thead>\n",
       "  <tbody>\n",
       "    <tr>\n",
       "      <th>41</th>\n",
       "      <td>http://www.wikidata.org/entity/Q82955</td>\n",
       "      <td>personnalité politique</td>\n",
       "      <td>personne impliquée dans la vie politique</td>\n",
       "      <td>823083</td>\n",
       "    </tr>\n",
       "    <tr>\n",
       "      <th>15</th>\n",
       "      <td>http://www.wikidata.org/entity/Q36180</td>\n",
       "      <td>écrivain ou écrivaine</td>\n",
       "      <td>personne qui rédige des ouvrages littéraires o...</td>\n",
       "      <td>361064</td>\n",
       "    </tr>\n",
       "    <tr>\n",
       "      <th>550</th>\n",
       "      <td>http://www.wikidata.org/entity/Q937857</td>\n",
       "      <td>footballeur</td>\n",
       "      <td>sportif ou sportive pratiquant le football (so...</td>\n",
       "      <td>358453</td>\n",
       "    </tr>\n",
       "    <tr>\n",
       "      <th>14</th>\n",
       "      <td>http://www.wikidata.org/entity/Q33999</td>\n",
       "      <td>acteur ou actrice</td>\n",
       "      <td>artiste qui prête son physique ou sa voix à un...</td>\n",
       "      <td>325937</td>\n",
       "    </tr>\n",
       "    <tr>\n",
       "      <th>2449</th>\n",
       "      <td>http://www.wikidata.org/entity/Q3665646</td>\n",
       "      <td>basketteur</td>\n",
       "      <td>pratiquant de basket-ball</td>\n",
       "      <td>171935</td>\n",
       "    </tr>\n",
       "  </tbody>\n",
       "</table>\n",
       "</div>"
      ],
      "text/plain": [
       "                                 wikidata_uri          wikidata_label  \\\n",
       "41      http://www.wikidata.org/entity/Q82955  personnalité politique   \n",
       "15      http://www.wikidata.org/entity/Q36180   écrivain ou écrivaine   \n",
       "550    http://www.wikidata.org/entity/Q937857             footballeur   \n",
       "14      http://www.wikidata.org/entity/Q33999       acteur ou actrice   \n",
       "2449  http://www.wikidata.org/entity/Q3665646              basketteur   \n",
       "\n",
       "                                   wikidata_description   count  \n",
       "41             personne impliquée dans la vie politique  823083  \n",
       "15    personne qui rédige des ouvrages littéraires o...  361064  \n",
       "550   sportif ou sportive pratiquant le football (so...  358453  \n",
       "14    artiste qui prête son physique ou sa voix à un...  325937  \n",
       "2449                          pratiquant de basket-ball  171935  "
      ]
     },
     "metadata": {},
     "output_type": "display_data"
    }
   ],
   "source": [
    "professions = sparql.query(\"\"\"\n",
    "    select (?item as ?wikidata_uri) (?itemLabel as ?wikidata_label) (?itemDescription as ?wikidata_description)\n",
    "    where { \n",
    "        ?item wdt:P31 wd:Q28640 .\n",
    "                \n",
    "        SERVICE wikibase:label { \n",
    "            bd:serviceParam wikibase:language \"fr\". \n",
    "            ?item rdfs:label ?itemLabel .\n",
    "            ?item schema:description ?itemDescription .\n",
    "        }\n",
    "    }\n",
    "\"\"\")\n",
    "# infos(professions)\n",
    "\n",
    "professions_count = sparql.query(\"\"\"\n",
    "    select (?item as ?wikidata_uri) (count(?entity) as ?count)\n",
    "    where {\n",
    "        ?item wdt:P31 wd:Q28640 .\n",
    "        ?entity wdt:P106 ?item .\n",
    "    }\n",
    "    group by ?item\n",
    "\"\"\").sort_values('count')\n",
    "# infos(professions_count)\n",
    "\n",
    "professions = professions.merge(professions_count, how='left')\n",
    "professions['count'] = professions['count'].astype(pd.Int64Dtype()) \n",
    "professions.sort_values(inplace=True, by='count', ascending=False)\n",
    "\n",
    "\n",
    "# Display\n",
    "infos(professions)"
   ]
  },
  {
   "cell_type": "markdown",
   "metadata": {},
   "source": [
    "### 1.b/ Occupations"
   ]
  },
  {
   "cell_type": "code",
   "execution_count": 4,
   "metadata": {},
   "outputs": [
    {
     "name": "stdout",
     "output_type": "stream",
     "text": [
      "Shape:  (4966, 4) - extract:\n"
     ]
    },
    {
     "data": {
      "text/html": [
       "<div>\n",
       "<style scoped>\n",
       "    .dataframe tbody tr th:only-of-type {\n",
       "        vertical-align: middle;\n",
       "    }\n",
       "\n",
       "    .dataframe tbody tr th {\n",
       "        vertical-align: top;\n",
       "    }\n",
       "\n",
       "    .dataframe thead th {\n",
       "        text-align: right;\n",
       "    }\n",
       "</style>\n",
       "<table border=\"1\" class=\"dataframe\">\n",
       "  <thead>\n",
       "    <tr style=\"text-align: right;\">\n",
       "      <th></th>\n",
       "      <th>wikidata_uri</th>\n",
       "      <th>wikidata_label</th>\n",
       "      <th>wikidata_description</th>\n",
       "      <th>count</th>\n",
       "    </tr>\n",
       "  </thead>\n",
       "  <tbody>\n",
       "    <tr>\n",
       "      <th>522</th>\n",
       "      <td>http://www.wikidata.org/entity/Q1650915</td>\n",
       "      <td>chercheur ou chercheuse</td>\n",
       "      <td>personne qui se consacre à la recherche scient...</td>\n",
       "      <td>1952237</td>\n",
       "    </tr>\n",
       "    <tr>\n",
       "      <th>15</th>\n",
       "      <td>http://www.wikidata.org/entity/Q36180</td>\n",
       "      <td>écrivain ou écrivaine</td>\n",
       "      <td>personne qui rédige des ouvrages littéraires o...</td>\n",
       "      <td>360969</td>\n",
       "    </tr>\n",
       "    <tr>\n",
       "      <th>314</th>\n",
       "      <td>http://www.wikidata.org/entity/Q937857</td>\n",
       "      <td>footballeur</td>\n",
       "      <td>sportif ou sportive pratiquant le football (so...</td>\n",
       "      <td>358336</td>\n",
       "    </tr>\n",
       "    <tr>\n",
       "      <th>13</th>\n",
       "      <td>http://www.wikidata.org/entity/Q33999</td>\n",
       "      <td>acteur ou actrice</td>\n",
       "      <td>artiste qui prête son physique ou sa voix à un...</td>\n",
       "      <td>325829</td>\n",
       "    </tr>\n",
       "    <tr>\n",
       "      <th>329</th>\n",
       "      <td>http://www.wikidata.org/entity/Q1028181</td>\n",
       "      <td>peintre</td>\n",
       "      <td>personne pratiquant la peinture, comme discipl...</td>\n",
       "      <td>201438</td>\n",
       "    </tr>\n",
       "  </tbody>\n",
       "</table>\n",
       "</div>"
      ],
      "text/plain": [
       "                                wikidata_uri           wikidata_label  \\\n",
       "522  http://www.wikidata.org/entity/Q1650915  chercheur ou chercheuse   \n",
       "15     http://www.wikidata.org/entity/Q36180    écrivain ou écrivaine   \n",
       "314   http://www.wikidata.org/entity/Q937857              footballeur   \n",
       "13     http://www.wikidata.org/entity/Q33999        acteur ou actrice   \n",
       "329  http://www.wikidata.org/entity/Q1028181                  peintre   \n",
       "\n",
       "                                  wikidata_description    count  \n",
       "522  personne qui se consacre à la recherche scient...  1952237  \n",
       "15   personne qui rédige des ouvrages littéraires o...   360969  \n",
       "314  sportif ou sportive pratiquant le football (so...   358336  \n",
       "13   artiste qui prête son physique ou sa voix à un...   325829  \n",
       "329  personne pratiquant la peinture, comme discipl...   201438  "
      ]
     },
     "metadata": {},
     "output_type": "display_data"
    }
   ],
   "source": [
    "occupations = sparql.query(\"\"\"\n",
    "    select (?item as ?wikidata_uri) (?itemLabel as ?wikidata_label) (?itemDescription as ?wikidata_description)\n",
    "    where { \n",
    "        ?item wdt:P31 wd:Q12737077 .\n",
    "                \n",
    "        SERVICE wikibase:label { \n",
    "            bd:serviceParam wikibase:language \"fr\". \n",
    "            ?item rdfs:label ?itemLabel .\n",
    "            ?item schema:description ?itemDescription .\n",
    "        }\n",
    "    }\n",
    "\"\"\")\n",
    "# infos(occupations)\n",
    "\n",
    "occupations_count = sparql.query(\"\"\"\n",
    "    select (?item as ?wikidata_uri) (count(?entity) as ?count)\n",
    "    where {\n",
    "        ?item wdt:P31 wd:Q12737077 .\n",
    "        ?entity wdt:P106 ?item .\n",
    "    }\n",
    "    group by ?item\n",
    "\"\"\").sort_values('count')\n",
    "# infos(occupations_count)\n",
    "\n",
    "occupations = occupations.merge(occupations_count, how='left')\n",
    "occupations['count'] = occupations['count'].astype(pd.Int64Dtype()) \n",
    "occupations.sort_values(inplace=True, by='count', ascending=False)\n",
    "\n",
    "infos(occupations)"
   ]
  },
  {
   "cell_type": "markdown",
   "metadata": {},
   "source": [
    "## 2./ Add info from DBpedia"
   ]
  },
  {
   "cell_type": "code",
   "execution_count": 5,
   "metadata": {},
   "outputs": [
    {
     "name": "stdout",
     "output_type": "stream",
     "text": [
      ">> SPARQL endpoint of DBpedia connected.\n"
     ]
    }
   ],
   "source": [
    "# sparql.connect_well_known('dbpedia')"
   ]
  },
  {
   "cell_type": "code",
   "execution_count": 6,
   "metadata": {},
   "outputs": [
    {
     "ename": "KeyError",
     "evalue": "'uri'",
     "output_type": "error",
     "traceback": [
      "\u001b[0;31m---------------------------------------------------------------------------\u001b[0m",
      "\u001b[0;31mKeyError\u001b[0m                                  Traceback (most recent call last)",
      "File \u001b[0;32m/opt/homebrew/lib/python3.10/site-packages/pandas/core/indexes/base.py:3653\u001b[0m, in \u001b[0;36mIndex.get_loc\u001b[0;34m(self, key)\u001b[0m\n\u001b[1;32m   3652\u001b[0m \u001b[38;5;28;01mtry\u001b[39;00m:\n\u001b[0;32m-> 3653\u001b[0m     \u001b[38;5;28;01mreturn\u001b[39;00m \u001b[38;5;28;43mself\u001b[39;49m\u001b[38;5;241;43m.\u001b[39;49m\u001b[43m_engine\u001b[49m\u001b[38;5;241;43m.\u001b[39;49m\u001b[43mget_loc\u001b[49m\u001b[43m(\u001b[49m\u001b[43mcasted_key\u001b[49m\u001b[43m)\u001b[49m\n\u001b[1;32m   3654\u001b[0m \u001b[38;5;28;01mexcept\u001b[39;00m \u001b[38;5;167;01mKeyError\u001b[39;00m \u001b[38;5;28;01mas\u001b[39;00m err:\n",
      "File \u001b[0;32m/opt/homebrew/lib/python3.10/site-packages/pandas/_libs/index.pyx:147\u001b[0m, in \u001b[0;36mpandas._libs.index.IndexEngine.get_loc\u001b[0;34m()\u001b[0m\n",
      "File \u001b[0;32m/opt/homebrew/lib/python3.10/site-packages/pandas/_libs/index.pyx:176\u001b[0m, in \u001b[0;36mpandas._libs.index.IndexEngine.get_loc\u001b[0;34m()\u001b[0m\n",
      "File \u001b[0;32mpandas/_libs/hashtable_class_helper.pxi:7080\u001b[0m, in \u001b[0;36mpandas._libs.hashtable.PyObjectHashTable.get_item\u001b[0;34m()\u001b[0m\n",
      "File \u001b[0;32mpandas/_libs/hashtable_class_helper.pxi:7088\u001b[0m, in \u001b[0;36mpandas._libs.hashtable.PyObjectHashTable.get_item\u001b[0;34m()\u001b[0m\n",
      "\u001b[0;31mKeyError\u001b[0m: 'uri'",
      "\nThe above exception was the direct cause of the following exception:\n",
      "\u001b[0;31mKeyError\u001b[0m                                  Traceback (most recent call last)",
      "Cell \u001b[0;32mIn[6], line 6\u001b[0m\n\u001b[1;32m      1\u001b[0m \u001b[38;5;28;01mfor\u001b[39;00m i, row \u001b[38;5;129;01min\u001b[39;00m occupations\u001b[38;5;241m.\u001b[39miterrows():\n\u001b[1;32m      2\u001b[0m     response \u001b[38;5;241m=\u001b[39m sparql\u001b[38;5;241m.\u001b[39mquery(\u001b[38;5;124m\"\"\"\u001b[39m\n\u001b[1;32m      3\u001b[0m \u001b[38;5;124m    select\u001b[39m\n\u001b[1;32m      4\u001b[0m \u001b[38;5;124m        ?dbpedia_uri ?dbpedia_label ?dbpedia_description (lang(?dbpedia_label) as ?label_lang) (lang(?dbpedia_description) as ?descr_lang)\u001b[39m\n\u001b[1;32m      5\u001b[0m \u001b[38;5;124m    where \u001b[39m\u001b[38;5;124m{\u001b[39m\n\u001b[0;32m----> 6\u001b[0m \u001b[38;5;124m        ?dbpedia_uri owl:sameAs <\u001b[39m\u001b[38;5;124m\"\"\"\u001b[39m \u001b[38;5;241m+\u001b[39m \u001b[43mrow\u001b[49m\u001b[43m[\u001b[49m\u001b[38;5;124;43m'\u001b[39;49m\u001b[38;5;124;43muri\u001b[39;49m\u001b[38;5;124;43m'\u001b[39;49m\u001b[43m]\u001b[49m \u001b[38;5;241m+\u001b[39m \u001b[38;5;124m\"\"\"\u001b[39m\u001b[38;5;124m> .\u001b[39m\n\u001b[1;32m      7\u001b[0m \u001b[38;5;124m        optional\u001b[39m\u001b[38;5;124m{\u001b[39m\u001b[38;5;124m ?dbpedia_uri rdfs:label ?dbpedia_label .}\u001b[39m\n\u001b[1;32m      8\u001b[0m \u001b[38;5;124m        optional\u001b[39m\u001b[38;5;124m{\u001b[39m\u001b[38;5;124m ?dbpedia_uri dbo:abstract ?dbpedia_description .}\u001b[39m\n\u001b[1;32m      9\u001b[0m \u001b[38;5;124m    }\u001b[39m\n\u001b[1;32m     10\u001b[0m \u001b[38;5;124m    \u001b[39m\u001b[38;5;124m\"\"\"\u001b[39m)\n\u001b[1;32m     12\u001b[0m     display(response)\n\u001b[1;32m     14\u001b[0m     \u001b[38;5;28;01mif\u001b[39;00m \u001b[38;5;28mlen\u001b[39m(response) \u001b[38;5;241m==\u001b[39m \u001b[38;5;241m0\u001b[39m: \u001b[38;5;28;01mcontinue\u001b[39;00m\n",
      "File \u001b[0;32m/opt/homebrew/lib/python3.10/site-packages/pandas/core/series.py:1007\u001b[0m, in \u001b[0;36mSeries.__getitem__\u001b[0;34m(self, key)\u001b[0m\n\u001b[1;32m   1004\u001b[0m     \u001b[38;5;28;01mreturn\u001b[39;00m \u001b[38;5;28mself\u001b[39m\u001b[38;5;241m.\u001b[39m_values[key]\n\u001b[1;32m   1006\u001b[0m \u001b[38;5;28;01melif\u001b[39;00m key_is_scalar:\n\u001b[0;32m-> 1007\u001b[0m     \u001b[38;5;28;01mreturn\u001b[39;00m \u001b[38;5;28;43mself\u001b[39;49m\u001b[38;5;241;43m.\u001b[39;49m\u001b[43m_get_value\u001b[49m\u001b[43m(\u001b[49m\u001b[43mkey\u001b[49m\u001b[43m)\u001b[49m\n\u001b[1;32m   1009\u001b[0m \u001b[38;5;28;01mif\u001b[39;00m is_hashable(key):\n\u001b[1;32m   1010\u001b[0m     \u001b[38;5;66;03m# Otherwise index.get_value will raise InvalidIndexError\u001b[39;00m\n\u001b[1;32m   1011\u001b[0m     \u001b[38;5;28;01mtry\u001b[39;00m:\n\u001b[1;32m   1012\u001b[0m         \u001b[38;5;66;03m# For labels that don't resolve as scalars like tuples and frozensets\u001b[39;00m\n",
      "File \u001b[0;32m/opt/homebrew/lib/python3.10/site-packages/pandas/core/series.py:1116\u001b[0m, in \u001b[0;36mSeries._get_value\u001b[0;34m(self, label, takeable)\u001b[0m\n\u001b[1;32m   1113\u001b[0m     \u001b[38;5;28;01mreturn\u001b[39;00m \u001b[38;5;28mself\u001b[39m\u001b[38;5;241m.\u001b[39m_values[label]\n\u001b[1;32m   1115\u001b[0m \u001b[38;5;66;03m# Similar to Index.get_value, but we do not fall back to positional\u001b[39;00m\n\u001b[0;32m-> 1116\u001b[0m loc \u001b[38;5;241m=\u001b[39m \u001b[38;5;28;43mself\u001b[39;49m\u001b[38;5;241;43m.\u001b[39;49m\u001b[43mindex\u001b[49m\u001b[38;5;241;43m.\u001b[39;49m\u001b[43mget_loc\u001b[49m\u001b[43m(\u001b[49m\u001b[43mlabel\u001b[49m\u001b[43m)\u001b[49m\n\u001b[1;32m   1118\u001b[0m \u001b[38;5;28;01mif\u001b[39;00m is_integer(loc):\n\u001b[1;32m   1119\u001b[0m     \u001b[38;5;28;01mreturn\u001b[39;00m \u001b[38;5;28mself\u001b[39m\u001b[38;5;241m.\u001b[39m_values[loc]\n",
      "File \u001b[0;32m/opt/homebrew/lib/python3.10/site-packages/pandas/core/indexes/base.py:3655\u001b[0m, in \u001b[0;36mIndex.get_loc\u001b[0;34m(self, key)\u001b[0m\n\u001b[1;32m   3653\u001b[0m     \u001b[38;5;28;01mreturn\u001b[39;00m \u001b[38;5;28mself\u001b[39m\u001b[38;5;241m.\u001b[39m_engine\u001b[38;5;241m.\u001b[39mget_loc(casted_key)\n\u001b[1;32m   3654\u001b[0m \u001b[38;5;28;01mexcept\u001b[39;00m \u001b[38;5;167;01mKeyError\u001b[39;00m \u001b[38;5;28;01mas\u001b[39;00m err:\n\u001b[0;32m-> 3655\u001b[0m     \u001b[38;5;28;01mraise\u001b[39;00m \u001b[38;5;167;01mKeyError\u001b[39;00m(key) \u001b[38;5;28;01mfrom\u001b[39;00m \u001b[38;5;21;01merr\u001b[39;00m\n\u001b[1;32m   3656\u001b[0m \u001b[38;5;28;01mexcept\u001b[39;00m \u001b[38;5;167;01mTypeError\u001b[39;00m:\n\u001b[1;32m   3657\u001b[0m     \u001b[38;5;66;03m# If we have a listlike key, _check_indexing_error will raise\u001b[39;00m\n\u001b[1;32m   3658\u001b[0m     \u001b[38;5;66;03m#  InvalidIndexError. Otherwise we fall through and re-raise\u001b[39;00m\n\u001b[1;32m   3659\u001b[0m     \u001b[38;5;66;03m#  the TypeError.\u001b[39;00m\n\u001b[1;32m   3660\u001b[0m     \u001b[38;5;28mself\u001b[39m\u001b[38;5;241m.\u001b[39m_check_indexing_error(key)\n",
      "\u001b[0;31mKeyError\u001b[0m: 'uri'"
     ]
    }
   ],
   "source": [
    "# for i, row in occupations.iterrows():\n",
    "#     response = sparql.query(\"\"\"\n",
    "#     select\n",
    "#         ?dbpedia_uri ?dbpedia_label ?dbpedia_description (lang(?dbpedia_label) as ?label_lang) (lang(?dbpedia_description) as ?descr_lang)\n",
    "#     where {\n",
    "#         ?dbpedia_uri owl:sameAs <\"\"\" + row['uri'] + \"\"\"> .\n",
    "#         optional{ ?dbpedia_uri rdfs:label ?dbpedia_label .}\n",
    "#         optional{ ?dbpedia_uri dbo:abstract ?dbpedia_description .}\n",
    "#     }\n",
    "#     \"\"\")\n",
    "    \n",
    "#     display(response)\n",
    "    \n",
    "#     if len(response) == 0: continue\n",
    "\n",
    "    \n",
    "\n",
    "#     break"
   ]
  },
  {
   "cell_type": "code",
   "execution_count": null,
   "metadata": {},
   "outputs": [],
   "source": [
    "sparql.query(\"\"\"\n",
    "    select *\n",
    "    where {\n",
    "        <http://dbpedia.org/resource/Researcher> rdfs:label ?label .\n",
    "        <http://dbpedia.org/resource/Researcher> dbo:abstract ?abstract .\n",
    "        \n",
    "        filter(lang(?abstract) = 'en' && (lang()))\n",
    "    }\n",
    "\"\"\")[0:50]"
   ]
  }
 ],
 "metadata": {
  "kernelspec": {
   "display_name": "Python 3",
   "language": "python",
   "name": "python3"
  },
  "language_info": {
   "codemirror_mode": {
    "name": "ipython",
    "version": 3
   },
   "file_extension": ".py",
   "mimetype": "text/x-python",
   "name": "python",
   "nbconvert_exporter": "python",
   "pygments_lexer": "ipython3",
   "version": "3.10.13"
  }
 },
 "nbformat": 4,
 "nbformat_minor": 2
}
