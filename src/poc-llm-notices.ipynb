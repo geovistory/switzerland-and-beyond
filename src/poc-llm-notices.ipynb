{
 "cells": [
  {
   "cell_type": "code",
   "execution_count": 1,
   "metadata": {},
   "outputs": [
    {
     "name": "stdout",
     "output_type": "stream",
     "text": [
      "[DB] Connecting to PGSQL Database ... Connected!\n",
      ">> External SPARQL URL set to <https://query.wikidata.org/sparql>\n",
      "SPARQL URL: https://query.wikidata.org/sparql\n"
     ]
    }
   ],
   "source": [
    "import os\n",
    "import requests\n",
    "import json\n",
    "import textwrap as tw\n",
    "import pandas as pd\n",
    "import geovpylib.database as db\n",
    "import geovdata.sparql as sparql\n",
    "from gmpykit.ipython import infos\n",
    "\n",
    "\n",
    "# Connect to S&B database\n",
    "db_url = os.getenv('YELLOW_SWITZERLAND_AND_BEYOND')\n",
    "execute = True\n",
    "db.connect_external(db_url, execute)\n",
    "\n",
    "# Connect to wikidata\n",
    "sparql.connect_external(\"https://query.wikidata.org/sparql\")\n",
    "\n",
    "\n",
    "def ask_ollama(prompt, model='mistral', print_prompt=False):\n",
    "\n",
    "    if print_prompt:\n",
    "        print()\n",
    "        print('===== Prompt sent to', model, '=====')\n",
    "        print(prompt)\n",
    "        print('====================================')\n",
    "\n",
    "    url='http://localhost:11434/api/generate'\n",
    "    response = requests.post(url, json={'model':model,'prompt':prompt})\n",
    "    text = response.text.strip()\n",
    "    lines = text.split('\\n')\n",
    "    tokens = list(map(lambda line: json.loads(line)['response'], lines))\n",
    "    formated = ''.join(tokens)\n",
    "    answer = formated.strip()\n",
    "    return answer"
   ]
  },
  {
   "cell_type": "markdown",
   "metadata": {},
   "source": [
    "# Reset database"
   ]
  },
  {
   "cell_type": "code",
   "execution_count": 2,
   "metadata": {},
   "outputs": [],
   "source": [
    "# db.execute(\"delete from hls.occupation\")"
   ]
  },
  {
   "cell_type": "markdown",
   "metadata": {},
   "source": [
    "## Fetch data"
   ]
  },
  {
   "cell_type": "code",
   "execution_count": 3,
   "metadata": {},
   "outputs": [
    {
     "name": "stdout",
     "output_type": "stream",
     "text": [
      "Shape:  (25346, 6) - extract:\n"
     ]
    },
    {
     "data": {
      "text/html": [
       "<div>\n",
       "<style scoped>\n",
       "    .dataframe tbody tr th:only-of-type {\n",
       "        vertical-align: middle;\n",
       "    }\n",
       "\n",
       "    .dataframe tbody tr th {\n",
       "        vertical-align: top;\n",
       "    }\n",
       "\n",
       "    .dataframe thead th {\n",
       "        text-align: right;\n",
       "    }\n",
       "</style>\n",
       "<table border=\"1\" class=\"dataframe\">\n",
       "  <thead>\n",
       "    <tr style=\"text-align: right;\">\n",
       "      <th></th>\n",
       "      <th>id</th>\n",
       "      <th>url</th>\n",
       "      <th>name</th>\n",
       "      <th>notice</th>\n",
       "      <th>uri_geov</th>\n",
       "      <th>hls_id</th>\n",
       "    </tr>\n",
       "  </thead>\n",
       "  <tbody>\n",
       "    <tr>\n",
       "      <th>0</th>\n",
       "      <td>66</td>\n",
       "      <td>https://hls-dhs-dss.ch/fr/articles/024493</td>\n",
       "      <td>Sciascia, Domenico</td>\n",
       "      <td>Naît le 1599 ou 1603 à Roveredo (GR), meurt le...</td>\n",
       "      <td>None</td>\n",
       "      <td>024493</td>\n",
       "    </tr>\n",
       "    <tr>\n",
       "      <th>1</th>\n",
       "      <td>17</td>\n",
       "      <td>https://hls-dhs-dss.ch/fr/articles/023451</td>\n",
       "      <td>Courten, Jean-Louis de</td>\n",
       "      <td>Naît le 3.7.1766 à Barcelone, meurt le 3.7.176...</td>\n",
       "      <td>None</td>\n",
       "      <td>023451</td>\n",
       "    </tr>\n",
       "    <tr>\n",
       "      <th>2</th>\n",
       "      <td>24</td>\n",
       "      <td>https://hls-dhs-dss.ch/fr/articles/024192</td>\n",
       "      <td>Reding, Nazar</td>\n",
       "      <td>Naît le 11.3.1759 à Schwytz, meurt le 11.3.175...</td>\n",
       "      <td>None</td>\n",
       "      <td>024192</td>\n",
       "    </tr>\n",
       "    <tr>\n",
       "      <th>3</th>\n",
       "      <td>29</td>\n",
       "      <td>https://hls-dhs-dss.ch/fr/articles/025343</td>\n",
       "      <td>Fraefel, Jakob</td>\n",
       "      <td>Naît le 17.2.1926 à Bâle, cath., d'Uzwil et Ge...</td>\n",
       "      <td>None</td>\n",
       "      <td>025343</td>\n",
       "    </tr>\n",
       "    <tr>\n",
       "      <th>4</th>\n",
       "      <td>38</td>\n",
       "      <td>https://hls-dhs-dss.ch/fr/articles/024553</td>\n",
       "      <td>Rossi, Domenico Egidio</td>\n",
       "      <td>1.9.1659 à Fano (Marches), meurt le 28.12.1657...</td>\n",
       "      <td>None</td>\n",
       "      <td>024553</td>\n",
       "    </tr>\n",
       "  </tbody>\n",
       "</table>\n",
       "</div>"
      ],
      "text/plain": [
       "   id                                        url                    name  \\\n",
       "0  66  https://hls-dhs-dss.ch/fr/articles/024493      Sciascia, Domenico   \n",
       "1  17  https://hls-dhs-dss.ch/fr/articles/023451  Courten, Jean-Louis de   \n",
       "2  24  https://hls-dhs-dss.ch/fr/articles/024192           Reding, Nazar   \n",
       "3  29  https://hls-dhs-dss.ch/fr/articles/025343          Fraefel, Jakob   \n",
       "4  38  https://hls-dhs-dss.ch/fr/articles/024553  Rossi, Domenico Egidio   \n",
       "\n",
       "                                              notice uri_geov  hls_id  \n",
       "0  Naît le 1599 ou 1603 à Roveredo (GR), meurt le...     None  024493  \n",
       "1  Naît le 3.7.1766 à Barcelone, meurt le 3.7.176...     None  023451  \n",
       "2  Naît le 11.3.1759 à Schwytz, meurt le 11.3.175...     None  024192  \n",
       "3  Naît le 17.2.1926 à Bâle, cath., d'Uzwil et Ge...     None  025343  \n",
       "4  1.9.1659 à Fano (Marches), meurt le 28.12.1657...     None  024553  "
      ]
     },
     "metadata": {},
     "output_type": "display_data"
    }
   ],
   "source": [
    "persons = db.query(\"select * from hls.person\")\n",
    "persons['hls_id'] = persons['url'].str.replace('https://hls-dhs-dss.ch/fr/articles/', '')\n",
    "infos(persons)"
   ]
  },
  {
   "cell_type": "markdown",
   "metadata": {},
   "source": [
    "## From text (with Mistral)"
   ]
  },
  {
   "cell_type": "code",
   "execution_count": 4,
   "metadata": {},
   "outputs": [],
   "source": [
    "prompt_profession = \"\"\"\n",
    "From the following text, I would like to extract all profession of \"__subject__\" (only the ones clearly mentioned!), in the following format:\n",
    "- Profession: <eg: Carpenter> | profession start date: <eg: 2020> | profession end date: <eg: 2021> | profession main place: <eg: Paris>\n",
    "\n",
    "Answer needs to be the list only with no comments, no introduction, no notes and no explanations.\n",
    "\n",
    "\n",
    "Here is the text:\n",
    "\"__text__\"\n",
    "\"\"\"\n",
    "\n",
    "def from_mistral(name, notice, print_prompt=False): \n",
    "    prompt = prompt_profession.replace('__subject__', name).replace('__text__', notice)\n",
    "    occupations = ask_ollama(prompt, print_prompt=print_prompt)\n",
    "\n",
    "    print('')\n",
    "    print('---------------------')\n",
    "    print('From Mistral:')\n",
    "    print(occupations)"
   ]
  },
  {
   "cell_type": "markdown",
   "metadata": {},
   "source": [
    "# From wikidata"
   ]
  },
  {
   "cell_type": "code",
   "execution_count": 5,
   "metadata": {},
   "outputs": [],
   "source": [
    "def from_wikidata(hls_id):\n",
    "    occupations = sparql.query('''\n",
    "        select \n",
    "            ?wikidata_url ?occupationLabel ?start_date ?end_date ?location\n",
    "        where {\n",
    "            ?wikidata_url wdt:P902 \"''' + hls_id + '''\" .\n",
    "            ?wikidata_url p:P106  ?occqual .\n",
    "            ?occqual      ps:P106 ?occupation .\n",
    "            optional { ?occqual pq:P580 ?start_date . }   \n",
    "            optional { ?occqual pq:P582 ?end_date . }\n",
    "            optional { ?occqual pq:P937 ?location . }\n",
    "            service wikibase:label { bd:serviceParam wikibase:language \"en\". } \n",
    "        }\n",
    "    ''')\n",
    "\n",
    "    # Add missing columns\n",
    "    needed_columns = ['occupation', 'start_date', 'end_date', 'location']\n",
    "    for col in needed_columns:\n",
    "        if col not in occupations.columns:\n",
    "            occupations[col] = pd.NA\n",
    "\n",
    "    if len(occupations): wikidata_url = occupations.iloc[0]['wikidata_url']\n",
    "    else: wikidata_url = \"No URL\"\n",
    "    occupations.drop(columns=['wikidata_url'], inplace=True)\n",
    "\n",
    "    # Rename columns\n",
    "    occupations.rename(inplace=True, columns={'occupationLabel':'occupation'})\n",
    "\n",
    "    print('')\n",
    "    print('---------------------')\n",
    "    print('From Wikidata (' + wikidata_url + '):')\n",
    "    display(occupations)"
   ]
  },
  {
   "cell_type": "markdown",
   "metadata": {},
   "source": [
    "# Tests"
   ]
  },
  {
   "cell_type": "code",
   "execution_count": 6,
   "metadata": {},
   "outputs": [
    {
     "name": "stdout",
     "output_type": "stream",
     "text": [
      "\n",
      "---------------------\n",
      "Herold, Johannes Basilius\n",
      "Naît le 17.12.1514 à Höchstädt an der Donau, meurt le 17.12.1514 à Bâle, prot. (cath. avant 1539),\n",
      "de Bâle (reçu bourgeois en 1556). Fils illégitime de Johannes, bailli des Fugger. 1) NN Gernler,\n",
      "d'une famille bourgeoise de Bâle, 2) Veronika Blowner, fille du conseiller Bernhard. Ecole à\n",
      "Donauwörth, puis années de voyage, surtout en Italie. A Bâle dès 1539. Sans être théologien, H. fut\n",
      "pasteur à Reinach (BL) en 1542-1543, candidat au pastorat et diacre à Augsbourg (1543-1544) et\n",
      "pasteur à Pfeffingen (1545-1552). De retour à Bâle dès 1554, il travailla dans une imprimerie comme\n",
      "correcteur et traducteur. Jean Oporin, Heinrich Petri et Pietro Perna imprimèrent les textes\n",
      "antiques et humanistes qu'il édita avec ses propres commentaires. L'édition des Antiquitates\n",
      "Germanicae (1557), recueil de lois des peuples barbares en ancien haut allemand, est d'une\n",
      "importance considérable pour l'histoire du droit au haut Moyen Age. Les historiens de la littérature\n",
      "narrative ont souligné l'originalité de sa traduction (Wunderwerck oder Gottes vnergründtliches\n",
      "vorbilden [...], 1557) de la chronique de Conradus Lycostenes (Prodigiorum ac ostentorum chronicon).\n",
      "H. ne fut guère soutenu à Bâle, étant resté fidèle à l'Empire et à l'empereur, et en bons termes\n",
      "avec certains dignitaires catholiques.\n",
      "\n",
      "---------------------\n",
      "From Mistral:\n",
      "- Profession: Priest | profession start date: 1542-1543 | profession end date: 1542-1543 | profession main place: Reinach (BL)\n",
      "- Profession: Candidate for pastorate and deacon | profession start date: 1543-1544 | profession end date: 1544 | profession main place: Augsburg\n",
      "- Profession: Priest | professions start date: 1545-1552 | profession end date: 1552 | profession main place: Pfeffingen\n",
      "- Profession: Corrector and translator | profession start date: 1554 | profession end date: N/A | profession main place: Bâle\n",
      "- Profession: Editor | profession start date: 1557 | profession end date: N/A | profession main place: N/A (various places where his texts were printed)\n",
      "\n",
      "---------------------\n",
      "From Wikidata (http://www.wikidata.org/entity/Q13103313):\n"
     ]
    },
    {
     "data": {
      "text/html": [
       "<div>\n",
       "<style scoped>\n",
       "    .dataframe tbody tr th:only-of-type {\n",
       "        vertical-align: middle;\n",
       "    }\n",
       "\n",
       "    .dataframe tbody tr th {\n",
       "        vertical-align: top;\n",
       "    }\n",
       "\n",
       "    .dataframe thead th {\n",
       "        text-align: right;\n",
       "    }\n",
       "</style>\n",
       "<table border=\"1\" class=\"dataframe\">\n",
       "  <thead>\n",
       "    <tr style=\"text-align: right;\">\n",
       "      <th></th>\n",
       "      <th>occupation</th>\n",
       "      <th>occupation</th>\n",
       "      <th>start_date</th>\n",
       "      <th>end_date</th>\n",
       "      <th>location</th>\n",
       "    </tr>\n",
       "  </thead>\n",
       "  <tbody>\n",
       "    <tr>\n",
       "      <th>0</th>\n",
       "      <td>printer</td>\n",
       "      <td>&lt;NA&gt;</td>\n",
       "      <td>&lt;NA&gt;</td>\n",
       "      <td>&lt;NA&gt;</td>\n",
       "      <td>&lt;NA&gt;</td>\n",
       "    </tr>\n",
       "    <tr>\n",
       "      <th>1</th>\n",
       "      <td>translator</td>\n",
       "      <td>&lt;NA&gt;</td>\n",
       "      <td>&lt;NA&gt;</td>\n",
       "      <td>&lt;NA&gt;</td>\n",
       "      <td>&lt;NA&gt;</td>\n",
       "    </tr>\n",
       "    <tr>\n",
       "      <th>2</th>\n",
       "      <td>corrector</td>\n",
       "      <td>&lt;NA&gt;</td>\n",
       "      <td>&lt;NA&gt;</td>\n",
       "      <td>&lt;NA&gt;</td>\n",
       "      <td>&lt;NA&gt;</td>\n",
       "    </tr>\n",
       "  </tbody>\n",
       "</table>\n",
       "</div>"
      ],
      "text/plain": [
       "   occupation occupation start_date end_date location\n",
       "0     printer       <NA>       <NA>     <NA>     <NA>\n",
       "1  translator       <NA>       <NA>     <NA>     <NA>\n",
       "2   corrector       <NA>       <NA>     <NA>     <NA>"
      ]
     },
     "metadata": {},
     "output_type": "display_data"
    }
   ],
   "source": [
    "person = persons.sample(1).iloc[0]\n",
    "\n",
    "\n",
    "print('')\n",
    "print('---------------------')\n",
    "print(person['name'])\n",
    "print(tw.fill(person['notice'], width=100))\n",
    "\n",
    "from_mistral(person['name'], person['notice'])\n",
    "\n",
    "from_wikidata(person['hls_id'])\n"
   ]
  }
 ],
 "metadata": {
  "kernelspec": {
   "display_name": "Python 3",
   "language": "python",
   "name": "python3"
  },
  "language_info": {
   "codemirror_mode": {
    "name": "ipython",
    "version": 3
   },
   "file_extension": ".py",
   "mimetype": "text/x-python",
   "name": "python",
   "nbconvert_exporter": "python",
   "pygments_lexer": "ipython3",
   "version": "3.10.13"
  }
 },
 "nbformat": 4,
 "nbformat_minor": 2
}
