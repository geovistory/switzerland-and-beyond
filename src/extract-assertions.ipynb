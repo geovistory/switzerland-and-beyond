{
 "cells": [
  {
   "cell_type": "code",
   "execution_count": 1,
   "metadata": {},
   "outputs": [
    {
     "name": "stdout",
     "output_type": "stream",
     "text": [
      "[DB] Requests will not be executed\n",
      "[DB] Connecting to YELLOW database \"switzerland_and_beyond\" ... Connected!\n"
     ]
    }
   ],
   "source": [
    "from os import getenv\n",
    "import pandas as pd\n",
    "import sqlalchemy\n",
    "import geovpylib.database as db\n",
    "import knex\n",
    "import gmpykit as kit\n",
    "from gmpykit.ipython import infos\n",
    "\n",
    "db.connect_yellow('switzerland_and_beyond')\n",
    "eta = kit.Eta()"
   ]
  },
  {
   "cell_type": "markdown",
   "metadata": {},
   "source": [
    "# Fetch data"
   ]
  },
  {
   "cell_type": "code",
   "execution_count": 2,
   "metadata": {},
   "outputs": [
    {
     "name": "stdout",
     "output_type": "stream",
     "text": [
      "Shape:  (24966, 5) - extract:\n"
     ]
    },
    {
     "data": {
      "text/html": [
       "<div>\n",
       "<style scoped>\n",
       "    .dataframe tbody tr th:only-of-type {\n",
       "        vertical-align: middle;\n",
       "    }\n",
       "\n",
       "    .dataframe tbody tr th {\n",
       "        vertical-align: top;\n",
       "    }\n",
       "\n",
       "    .dataframe thead th {\n",
       "        text-align: right;\n",
       "    }\n",
       "</style>\n",
       "<table border=\"1\" class=\"dataframe\">\n",
       "  <thead>\n",
       "    <tr style=\"text-align: right;\">\n",
       "      <th></th>\n",
       "      <th>id</th>\n",
       "      <th>url</th>\n",
       "      <th>name</th>\n",
       "      <th>notice_html</th>\n",
       "      <th>notice</th>\n",
       "    </tr>\n",
       "  </thead>\n",
       "  <tbody>\n",
       "    <tr>\n",
       "      <th>0</th>\n",
       "      <td>47</td>\n",
       "      <td>https://hls-dhs-dss.ch/fr/articles/023622</td>\n",
       "      <td>Dubois, René</td>\n",
       "      <td>&lt;span class=\"hls-dnais\" locale=\"fr\"&gt;17.8.1905&lt;...</td>\n",
       "      <td>Naît le 17.8.1905 aux Verrières, meurt le 16.1...</td>\n",
       "    </tr>\n",
       "    <tr>\n",
       "      <th>1</th>\n",
       "      <td>7320</td>\n",
       "      <td>https://hls-dhs-dss.ch/fr/articles/012414</td>\n",
       "      <td>Niklaus von Wyle</td>\n",
       "      <td>&lt;span class=\"hls-dnais\" locale=\"fr\"&gt;vers 1415&lt;...</td>\n",
       "      <td>Naît vers 1415 à Bremgarten (AG), meurt le 13....</td>\n",
       "    </tr>\n",
       "    <tr>\n",
       "      <th>2</th>\n",
       "      <td>7322</td>\n",
       "      <td>https://hls-dhs-dss.ch/fr/articles/012496</td>\n",
       "      <td>Baselwind, Diebold</td>\n",
       "      <td>Mentionné pour la première fois le &lt;span class...</td>\n",
       "      <td>Mentionné pour la première fois le 19.3.1329 c...</td>\n",
       "    </tr>\n",
       "    <tr>\n",
       "      <th>3</th>\n",
       "      <td>31</td>\n",
       "      <td>https://hls-dhs-dss.ch/fr/articles/023373</td>\n",
       "      <td>Burckhardt, Emanuel</td>\n",
       "      <td>&lt;span class=\"hls-dnais\" locale=\"fr\"&gt;25.11.1744...</td>\n",
       "      <td>Naît le 25.11.1744 à Bâle, meurt le 21.5.1820 ...</td>\n",
       "    </tr>\n",
       "    <tr>\n",
       "      <th>4</th>\n",
       "      <td>72</td>\n",
       "      <td>https://hls-dhs-dss.ch/fr/articles/023462</td>\n",
       "      <td>Cuénoud, Bernard</td>\n",
       "      <td>&lt;span class=\"hls-dnais\" locale=\"fr\"&gt;2.3.1899&lt;/...</td>\n",
       "      <td>Naît le 2.3.1899 à Lausanne, meurt le 26.5.198...</td>\n",
       "    </tr>\n",
       "  </tbody>\n",
       "</table>\n",
       "</div>"
      ],
      "text/plain": [
       "     id                                        url                 name  \\\n",
       "0    47  https://hls-dhs-dss.ch/fr/articles/023622         Dubois, René   \n",
       "1  7320  https://hls-dhs-dss.ch/fr/articles/012414     Niklaus von Wyle   \n",
       "2  7322  https://hls-dhs-dss.ch/fr/articles/012496   Baselwind, Diebold   \n",
       "3    31  https://hls-dhs-dss.ch/fr/articles/023373  Burckhardt, Emanuel   \n",
       "4    72  https://hls-dhs-dss.ch/fr/articles/023462     Cuénoud, Bernard   \n",
       "\n",
       "                                         notice_html  \\\n",
       "0  <span class=\"hls-dnais\" locale=\"fr\">17.8.1905<...   \n",
       "1  <span class=\"hls-dnais\" locale=\"fr\">vers 1415<...   \n",
       "2  Mentionné pour la première fois le <span class...   \n",
       "3  <span class=\"hls-dnais\" locale=\"fr\">25.11.1744...   \n",
       "4  <span class=\"hls-dnais\" locale=\"fr\">2.3.1899</...   \n",
       "\n",
       "                                              notice  \n",
       "0  Naît le 17.8.1905 aux Verrières, meurt le 16.1...  \n",
       "1  Naît vers 1415 à Bremgarten (AG), meurt le 13....  \n",
       "2  Mentionné pour la première fois le 19.3.1329 c...  \n",
       "3  Naît le 25.11.1744 à Bâle, meurt le 21.5.1820 ...  \n",
       "4  Naît le 2.3.1899 à Lausanne, meurt le 26.5.198...  "
      ]
     },
     "metadata": {},
     "output_type": "display_data"
    }
   ],
   "source": [
    "data = db.query('select * from hls.person')\n",
    "\n",
    "infos(data)\n"
   ]
  },
  {
   "cell_type": "markdown",
   "metadata": {},
   "source": [
    "# Extract assertions"
   ]
  },
  {
   "cell_type": "code",
   "execution_count": 3,
   "metadata": {},
   "outputs": [],
   "source": [
    "sample = data.sample(100)"
   ]
  },
  {
   "cell_type": "code",
   "execution_count": 5,
   "metadata": {},
   "outputs": [
    {
     "name": "stdout",
     "output_type": "stream",
     "text": [
      "Computing assertions - 100 iterations in 00h25m11s (avg of 00h00m15s/iter)               \n"
     ]
    }
   ],
   "source": [
    "assertions = []\n",
    "eta.begin(len(sample), 'Computing assertions')\n",
    "for i, row in sample.iterrows():\n",
    "    text = row['notice']\n",
    "    text_assertions = knex.get_assertions(text)\n",
    "\n",
    "    for assertion in text_assertions:\n",
    "        assertion_txt = assertion[0:assertion.index('->')].strip()\n",
    "        topic_txt = assertion[assertion.index('->') + 3:].strip()\n",
    "\n",
    "        assertions.append({\n",
    "            'pk_assertion': len(assertions) + 1,\n",
    "            'fk_person': row['id'],\n",
    "            'assertion': assertion_txt,\n",
    "            'topic': topic_txt\n",
    "        })\n",
    "    \n",
    "    # break\n",
    "    eta.iter()\n",
    "eta.end()\n"
   ]
  },
  {
   "cell_type": "markdown",
   "metadata": {},
   "source": [
    "# Prepare to upload"
   ]
  },
  {
   "cell_type": "code",
   "execution_count": 9,
   "metadata": {},
   "outputs": [],
   "source": [
    "assertions = pd.DataFrame(assertions)\n",
    "\n",
    "db_url = getenv('YELLOW_DBS_URL') + '/switzerland_and_beyond'\n",
    "db_connection = sqlalchemy.create_engine(db_url).connect()"
   ]
  },
  {
   "cell_type": "markdown",
   "metadata": {},
   "source": [
    "# Upload"
   ]
  },
  {
   "cell_type": "code",
   "execution_count": 10,
   "metadata": {},
   "outputs": [
    {
     "data": {
      "text/plain": [
       "<sqlalchemy.engine.cursor.CursorResult at 0x3b27afc40>"
      ]
     },
     "execution_count": 10,
     "metadata": {},
     "output_type": "execute_result"
    }
   ],
   "source": [
    "assertions.to_sql(con=db_connection, name='person_assertion', schema='hls', index=False, if_exists='append')\n",
    "db_connection.execute(sqlalchemy.text(\"\"\"\n",
    "alter table hls.person_assertion drop constraint if exists fk_person;                                    \n",
    "alter table hls.person_assertion add constraint fk_person foreign key (fk_person) references hls.person (id); \n",
    "commit;\n",
    "\"\"\"))"
   ]
  }
 ],
 "metadata": {
  "kernelspec": {
   "display_name": "Python 3",
   "language": "python",
   "name": "python3"
  },
  "language_info": {
   "codemirror_mode": {
    "name": "ipython",
    "version": 3
   },
   "file_extension": ".py",
   "mimetype": "text/x-python",
   "name": "python",
   "nbconvert_exporter": "python",
   "pygments_lexer": "ipython3",
   "version": "3.10.13"
  }
 },
 "nbformat": 4,
 "nbformat_minor": 2
}
