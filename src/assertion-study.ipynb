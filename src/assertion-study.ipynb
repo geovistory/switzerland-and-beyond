{
 "cells": [
  {
   "cell_type": "code",
   "execution_count": null,
   "metadata": {},
   "outputs": [],
   "source": [
    "from os import getenv\n",
    "import pandas as pd\n",
    "import sqlalchemy\n",
    "import geovpylib.database as db\n",
    "import knex\n",
    "import gmpykit as kit\n",
    "from gmpykit.ipython import infos\n",
    "import knex\n",
    "from knex import classes\n",
    "\n",
    "db.connect_yellow('switzerland_and_beyond')\n",
    "eta = kit.Eta()"
   ]
  },
  {
   "cell_type": "code",
   "execution_count": null,
   "metadata": {},
   "outputs": [],
   "source": [
    "assertions = db.query('select * from hls.person_assertion;')\n",
    "\n",
    "infos(assertions)"
   ]
  },
  {
   "cell_type": "code",
   "execution_count": null,
   "metadata": {},
   "outputs": [],
   "source": [
    "kit.group_by_count(assertions, 'topic').head(10)"
   ]
  },
  {
   "cell_type": "markdown",
   "metadata": {},
   "source": [
    "___"
   ]
  },
  {
   "cell_type": "code",
   "execution_count": null,
   "metadata": {},
   "outputs": [],
   "source": [
    "selection = assertions[assertions['topic'] == 'family']\n",
    "\n",
    "selection"
   ]
  },
  {
   "cell_type": "markdown",
   "metadata": {},
   "source": [
    "# Test extraction - Job"
   ]
  },
  {
   "cell_type": "code",
   "execution_count": null,
   "metadata": {},
   "outputs": [],
   "source": [
    "# selection = assertions[assertions['topic'] == 'job'].copy()\n",
    "# knex_options = knex.KnexOptions(return_feedbacks=True, compute_assertions=False)\n",
    "# selection['valid'] = pd.NA\n",
    "# eta.begin(len(selection), 'Checking output validity')\n",
    "# for i, row in selection.iterrows():\n",
    "\n",
    "#     # Extract the graph\n",
    "#     result = knex.extract(row['assertion'], knex_options, debug_list=[])\n",
    "\n",
    "#     # Check if there is a graph\n",
    "#     valid = 'subject_class_pk' in result.graph.columns and 'object_class_pk' in result.graph.columns\n",
    "#     if not valid: continue\n",
    "\n",
    "#     # Regroup the needed infos\n",
    "#     subject_classes = result.graph['subject_class_pk'].unique()\n",
    "#     object_classes = result.graph['object_class_pk'].unique()\n",
    "\n",
    "#     # Subject checkings\n",
    "#     if classes.C8_occupationTemporalEntity not in subject_classes and classes.C13_socialRoleEmbodiment not in subject_classes: valid = False\n",
    "#     if classes.C38_personAppellationInALanguage not in subject_classes: valid = False\n",
    "\n",
    "#     # Object checkings\n",
    "#     if classes.E21_person not in object_classes: valid = False\n",
    "#     if classes.C7_occupation not in object_classes and classes.C12_actorSSocialRole not in object_classes: valid = False\n",
    "    \n",
    "#     selection.at[i, 'valid'] = valid\n",
    "#     eta.iter()\n",
    "# eta.end()\n",
    "\n",
    "# valid_nb = selection['valid'].sum()\n",
    "# total_nb = len(selection)\n",
    "# print('Percent valid:', kit.percent(valid_nb / total_nb))\n",
    "\n",
    "# not_valids = selection[selection['valid'] == False]\n",
    "# display(not_valids)"
   ]
  },
  {
   "cell_type": "markdown",
   "metadata": {},
   "source": [
    "# Test extraction - Family"
   ]
  },
  {
   "cell_type": "code",
   "execution_count": null,
   "metadata": {},
   "outputs": [],
   "source": []
  },
  {
   "cell_type": "code",
   "execution_count": null,
   "metadata": {},
   "outputs": [],
   "source": [
    "family = assertions[assertions['topic'] == 'family'].copy()\n",
    "\n",
    "family['feedback'] = pd.NA\n",
    "eta.begin(len(family), 'Family extraction')\n",
    "for i, row in family.iterrows():\n",
    "    result = knex.extract(row['assertion'], return_feedbacks=True, compute_assertions=False)\n",
    "    # family.at[i, 'feedback'] = result.feedback\n",
    "    eta.print(result.feedback)\n",
    "    eta.iter()\n",
    "eta.end()\n",
    "\n",
    "family\n"
   ]
  },
  {
   "cell_type": "code",
   "execution_count": 1,
   "metadata": {},
   "outputs": [
    {
     "name": "stdout",
     "output_type": "stream",
     "text": [
      "Parenting found: Daniel Peter's (CHILD), Jean Samuel (PARENT),\n",
      "Parenting found: Daniel Peter's (CHILD), Jean Samuel (PARENT),\n",
      "Parenting found: Daniel Peter's (CHILD), Jeanne-Louise Laurent (PARENT),\n",
      "Parenting found: Fanny-Louise Cailler (CHILD), Francois-Louis Cailler (PARENT),\n",
      "./temp.html\n"
     ]
    }
   ],
   "source": [
    "import knex\n",
    "result = knex.extract(\"Naît le 9.3.1836 à Moudon, meurt le 4.11.1919 à Vevey, protestant, de Lavey-Morcles. Fils de Jean Samuel, maître boucher, et de Jeanne-Louise Laurent. Marié(e) (1863) à Fanny-Louise Cailler, fille de François-Louis Cailler (https://hls-dhs-dss.ch/fr/articles/030578/2003-03-20/). Apprentissage de commerce à Vevey, où Daniel Peter ouvrit en 1856 une fabrique et commerce de chandelles (Frères Peter). Il diversifia ensuite ses activités et s'occupa également de la fabrication de chocolat, en association avec son beau-père (Peter, Cailler et Cie dès 1867). Inventeur de la formule du chocolat au lait (1875). Conseiller municipal à Vevey (1893-1896). En 1896, Daniel Peter vendit sa fabrique à Gabriel Montet et fut nommé directeur de la Société des chocolats au lait Peter SA. Son entreprise chocolatière, devenue Peter-Cailler-Kohler SA en 1911, fusionna avec Nestlé en 1929.\", return_feedbacks=True)\n",
    "\n",
    "knex.generate_visual(result.graph, './temp.html')"
   ]
  }
 ],
 "metadata": {
  "kernelspec": {
   "display_name": "Python 3",
   "language": "python",
   "name": "python3"
  },
  "language_info": {
   "codemirror_mode": {
    "name": "ipython",
    "version": 3
   },
   "file_extension": ".py",
   "mimetype": "text/x-python",
   "name": "python",
   "nbconvert_exporter": "python",
   "pygments_lexer": "ipython3",
   "version": "3.10.14"
  }
 },
 "nbformat": 4,
 "nbformat_minor": 2
}
