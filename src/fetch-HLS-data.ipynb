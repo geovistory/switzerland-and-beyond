{
 "cells": [
  {
   "cell_type": "code",
   "execution_count": 1,
   "metadata": {},
   "outputs": [
    {
     "name": "stdout",
     "output_type": "stream",
     "text": [
      "Requests will not be executed\n",
      "=== Setting STAGING environment ===\n",
      ">> Connecting to PGSQL Database ... Connected!\n"
     ]
    }
   ],
   "source": [
    "env = 'staging'\n",
    "pk_project = 153\n",
    "\n",
    "import pandas as pd\n",
    "import duckdb\n",
    "\n",
    "import geovpylib.database as db\n",
    "import geovpylib.utils as u\n",
    "import geovpylib.sparql as sparql\n",
    "import geovpylib.pks as pks\n",
    "import geovpylib.graphs as graphs\n",
    "\n",
    "db.connect(env, pk_project, execute=False)"
   ]
  },
  {
   "attachments": {},
   "cell_type": "markdown",
   "metadata": {},
   "source": [
    "## Fetch HLS data from Wikidata"
   ]
  },
  {
   "cell_type": "code",
   "execution_count": null,
   "metadata": {},
   "outputs": [],
   "source": [
    "sparql.init('https://query.wikidata.org/sparql')"
   ]
  }
 ],
 "metadata": {
  "kernelspec": {
   "display_name": "Python 3",
   "language": "python",
   "name": "python3"
  },
  "language_info": {
   "codemirror_mode": {
    "name": "ipython",
    "version": 3
   },
   "file_extension": ".py",
   "mimetype": "text/x-python",
   "name": "python",
   "nbconvert_exporter": "python",
   "pygments_lexer": "ipython3",
   "version": "3.8.10"
  },
  "orig_nbformat": 4
 },
 "nbformat": 4,
 "nbformat_minor": 2
}
