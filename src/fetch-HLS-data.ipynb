{
 "cells": [
  {
   "cell_type": "code",
   "execution_count": null,
   "metadata": {},
   "outputs": [],
   "source": [
    "%load_ext autoreload\n",
    "%autoreload 2"
   ]
  },
  {
   "cell_type": "code",
   "execution_count": null,
   "metadata": {},
   "outputs": [],
   "source": [
    "env = 'staging'\n",
    "pk_project = 153\n",
    "debug = True\n",
    "\n",
    "import pandas as pd\n",
    "import duckdb\n",
    "import threading\n",
    "from icecream import ic\n",
    "\n",
    "import geovpylib.utils as u\n",
    "import geovpylib.database as db\n",
    "import geovpylib.pks as pks\n",
    "import geovpylib.sparql as sparql\n",
    "import geovpylib.graphs as graphs\n",
    "import geovpylib.find as find\n",
    "\n",
    "eta = u.Eta()\n",
    "ic.configureOutput(prefix='debug| ')\n",
    "if debug: ic.enable()\n",
    "else: ic.disable()\n",
    "\n",
    "\n",
    "db.connect(env, pk_project, execute=False)"
   ]
  },
  {
   "attachments": {},
   "cell_type": "markdown",
   "metadata": {},
   "source": [
    "## HLS humans found in wikidata"
   ]
  },
  {
   "attachments": {},
   "cell_type": "markdown",
   "metadata": {},
   "source": [
    "### Fetch data"
   ]
  },
  {
   "cell_type": "code",
   "execution_count": null,
   "metadata": {},
   "outputs": [],
   "source": [
    "sparql.init('https://query.wikidata.org/sparql')\n",
    "wikidata = sparql.query(\"\"\"\n",
    "    SELECT ?uri_hls ?uri_wikidataLabel ?uri_wikidata ?genderLabel ?birthdate ?deathdate ?description\n",
    "    WHERE {\n",
    "        ?uri_wikidata wdt:P902 ?uri_hls .\n",
    "        ?uri_wikidata wdt:P31 wd:Q5 .\n",
    "        optional { ?uri_wikidata wdt:P21 ?gender . }\n",
    "        optional { ?uri_wikidata wdt:P569 ?birthdate . }\n",
    "        optional { ?uri_wikidata wdt:P570 ?deathdate . }\n",
    "        SERVICE wikibase:label { bd:serviceParam wikibase:language \"[AUTO_LANGUAGE],en\". }\n",
    "\n",
    "        SERVICE wikibase:label { \n",
    "            bd:serviceParam wikibase:language \"[AUTO_LANGUAGE],en\" . \n",
    "            ?uri_wikidata schema:description ?description .\n",
    "        }\n",
    "    }\n",
    "\"\"\")\n",
    "                        \n",
    "wikidata.rename(columns={'uri_wikidataLabel': 'name', 'genderLabel': 'gender'}, inplace=True)\n",
    "wikidata['uri_hls'] = 'https://hls-dhs-dss.ch/articles/' + wikidata['uri_hls']\n",
    "\n",
    "wikidata = wikidata[['name', 'description', 'uri_wikidata', 'uri_hls', 'gender', 'birthdate', 'deathdate']]\n",
    "wikidata['gender'] = wikidata['gender'].replace('male', 'Male')\n",
    "wikidata['gender'] = wikidata['gender'].replace('female', 'Female')\n",
    "wikidata['birthdate'] = [u.parse_date(strdate) for strdate in wikidata['birthdate']]\n",
    "wikidata['deathdate'] = [u.parse_date(strdate) for strdate in wikidata['deathdate']]\n",
    "\n",
    "u.infos(wikidata, random=True)"
   ]
  },
  {
   "attachments": {},
   "cell_type": "markdown",
   "metadata": {},
   "source": [
    "### Find existing persons in Geovistory"
   ]
  },
  {
   "cell_type": "code",
   "execution_count": null,
   "metadata": {},
   "outputs": [],
   "source": [
    "display(find.find_persons_by_uri(wikidata['uri_wikidata']))\n",
    "display(find.find_persons_by_uri(wikidata['uri_hls']))"
   ]
  },
  {
   "cell_type": "code",
   "execution_count": null,
   "metadata": {},
   "outputs": [],
   "source": [
    "similars = find.find_persons(wikidata, index_col_name='uri_hls', jobs=10)\n",
    "u.infos(similars)\n",
    "\n",
    "wikidata = wikidata.merge(similars[['uri_hls', 'pk_entity']].drop_duplicates(), on='uri_hls', how='left').rename(columns={'pk_entity':'pk_person'})\n",
    "u.infos(wikidata)"
   ]
  },
  {
   "cell_type": "code",
   "execution_count": null,
   "metadata": {},
   "outputs": [],
   "source": [
    "to_update = wikidata[pd.notna(wikidata['pk_person'])]\n",
    "to_create = wikidata[pd.isna(wikidata['pk_person'])]"
   ]
  },
  {
   "attachments": {},
   "cell_type": "markdown",
   "metadata": {},
   "source": [
    "## Insert data"
   ]
  },
  {
   "attachments": {},
   "cell_type": "markdown",
   "metadata": {},
   "source": [
    "### Create new persons"
   ]
  },
  {
   "cell_type": "code",
   "execution_count": null,
   "metadata": {},
   "outputs": [],
   "source": [
    "to_create['pk_person'] = db.resources.create(pks.classes.person, len(to_create))"
   ]
  },
  {
   "attachments": {},
   "cell_type": "markdown",
   "metadata": {},
   "source": [
    "#### Definitions"
   ]
  },
  {
   "cell_type": "code",
   "execution_count": null,
   "metadata": {},
   "outputs": [],
   "source": [
    "selection = to_create[['pk_person', 'description']].dropna()\n",
    "\n",
    "graphs.add_definitions(\n",
    "    selection['pk_person'].tolist(),\n",
    "    selection['description'].tolist(),\n",
    "    pks.languages.english\n",
    ")"
   ]
  },
  {
   "attachments": {},
   "cell_type": "markdown",
   "metadata": {},
   "source": [
    "#### URIs"
   ]
  },
  {
   "cell_type": "code",
   "execution_count": null,
   "metadata": {},
   "outputs": [],
   "source": [
    "# Wikidata\n",
    "selection = to_create[['pk_person', 'uri_wikidata']].dropna()\n",
    "\n",
    "graphs.add_uris(\n",
    "    selection['pk_person'].tolist(), \n",
    "    selection['uri_wikidata'].tolist()\n",
    ")"
   ]
  },
  {
   "cell_type": "code",
   "execution_count": null,
   "metadata": {},
   "outputs": [],
   "source": [
    "# HLS\n",
    "selection = to_create[['pk_person', 'uri_hls']].dropna()\n",
    "\n",
    "# Execute\n",
    "graphs.add_uris(\n",
    "    selection['pk_person'].tolist(),\n",
    "    selection['uri_hls'].tolist()\n",
    ")"
   ]
  },
  {
   "attachments": {},
   "cell_type": "markdown",
   "metadata": {},
   "source": [
    "#### Gender"
   ]
  },
  {
   "cell_type": "code",
   "execution_count": null,
   "metadata": {},
   "outputs": [],
   "source": [
    "# Prepare\n",
    "selection = to_create[['pk_person', 'gender']].dropna()\n",
    "\n",
    "z = db.statements.create(\n",
    "    selection['pk_person'].tolist(),\n",
    "    pks.properties.person_hasGender_gender,\n",
    "    selection['gender'].replace('Male', pks.entities.pk_gender_male).replace('Female', pks.entities.pk_gender_female)\n",
    ")"
   ]
  },
  {
   "attachments": {},
   "cell_type": "markdown",
   "metadata": {},
   "source": [
    "#### Birthdate"
   ]
  },
  {
   "cell_type": "code",
   "execution_count": null,
   "metadata": {},
   "outputs": [],
   "source": [
    "selection = to_create[['pk_person', 'birthdate']].dropna()\n",
    "years = [d[0] for d in selection['birthdate']]\n",
    "months = [d[1] for d in selection['birthdate']]\n",
    "days = [d[2] for d in selection['birthdate']]\n",
    "\n",
    "pk_births = db.resources.create(pks.classes.birth, len(selection))\n",
    "pk_time_prim = db.time_primitives.create(years, months, days, '1 day')\n",
    "\n",
    "z = db.statements.create(\n",
    "    pk_births, \n",
    "    pks.properties.birth_broughtIntoLife_person,\n",
    "    selection['pk_person'].tolist()\n",
    ")\n",
    "\n",
    "z = db.statements.create(\n",
    "    pk_births, \n",
    "    pks.properties.timeSpan_atSomeTimeWithin_timePrimitive,\n",
    "    pk_time_prim\n",
    ")"
   ]
  },
  {
   "attachments": {},
   "cell_type": "markdown",
   "metadata": {},
   "source": [
    "#### Deathdate"
   ]
  },
  {
   "cell_type": "code",
   "execution_count": null,
   "metadata": {},
   "outputs": [],
   "source": [
    "selection = to_create[['pk_person', 'deathdate']].dropna()\n",
    "years = [d[0] for d in selection['deathdate']]\n",
    "months = [d[1] for d in selection['deathdate']]\n",
    "days = [d[2] for d in selection['deathdate']]\n",
    "\n",
    "pk_deaths = db.resources.create(pks.classes.death, len(selection))\n",
    "pk_time_prim = db.time_primitives.create(years, months, days, '1 day')\n",
    "\n",
    "z = db.statements.create(\n",
    "    pk_deaths, \n",
    "    pks.properties.death_wasDeathOf_person,\n",
    "    selection['pk_person'].tolist()\n",
    ")\n",
    "\n",
    "z = db.statements.create(\n",
    "    pk_deaths, \n",
    "    pks.properties.timeSpan_atSomeTimeWithin_timePrimitive,\n",
    "    pk_time_prim\n",
    ")"
   ]
  }
 ],
 "metadata": {
  "kernelspec": {
   "display_name": "Python 3",
   "language": "python",
   "name": "python3"
  },
  "language_info": {
   "codemirror_mode": {
    "name": "ipython",
    "version": 3
   },
   "file_extension": ".py",
   "mimetype": "text/x-python",
   "name": "python",
   "nbconvert_exporter": "python",
   "pygments_lexer": "ipython3",
   "version": "3.8.10"
  },
  "orig_nbformat": 4
 },
 "nbformat": 4,
 "nbformat_minor": 2
}
