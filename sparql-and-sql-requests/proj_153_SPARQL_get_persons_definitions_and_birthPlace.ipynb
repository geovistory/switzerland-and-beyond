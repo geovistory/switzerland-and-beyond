{
 "cells": [
  {
   "cell_type": "code",
   "execution_count": 1,
   "id": "f49ca9b0-21ed-45f1-aae0-8ce5db30e852",
   "metadata": {},
   "outputs": [],
   "source": [
    "from SPARQLWrapper import SPARQLWrapper, SPARQLWrapper2, JSON, TURTLE, XML, RDFXML\n",
    "import pandas as pd\n",
    "import time\n",
    "import sqlite3 as sql"
   ]
  },
  {
   "cell_type": "code",
   "execution_count": null,
   "id": "e061bcca-6814-4197-a0bb-647f26c8a3d8",
   "metadata": {},
   "outputs": [],
   "source": []
  },
  {
   "cell_type": "code",
   "execution_count": 2,
   "id": "2a005060-686a-46e3-96a9-57f491747119",
   "metadata": {},
   "outputs": [
    {
     "data": {
      "text/plain": [
       "'20230405_083949'"
      ]
     },
     "execution_count": 2,
     "metadata": {},
     "output_type": "execute_result"
    }
   ],
   "source": [
    "### Fonction qui récupère et met en forme le temps au moment de l'exécution\n",
    "\n",
    "# définition\n",
    "def timestamp_formatted_for_file_name():\n",
    "    is_now = time.strftime('%Y%m%d_%H%M%S')\n",
    "    return is_now\n",
    "\n",
    "# exécution\n",
    "timestamp_formatted_for_file_name()"
   ]
  },
  {
   "cell_type": "code",
   "execution_count": 3,
   "id": "9b60ed35-5ece-4902-8fad-9687e4af55c1",
   "metadata": {},
   "outputs": [],
   "source": [
    "### Importer un module de fonctions crée ad hoc\n",
    "## ATTENTION : le fichier 'sparql_functions.py' doit se trouver \n",
    "#   dans le même dossier que le présent carnet Jupyter afin que l'importation\n",
    "#   fonctionne correctement\n",
    "import sparql_functions as spqf"
   ]
  },
  {
   "cell_type": "code",
   "execution_count": null,
   "id": "829146de-1606-4253-871d-0512e56ab12a",
   "metadata": {},
   "outputs": [],
   "source": [
    "### Recharger le module après modification des fonctions dans le fichier du module\n",
    "# désactivé #  reload(spqf)"
   ]
  },
  {
   "cell_type": "markdown",
   "id": "9c2e9be3-dd7b-4373-beae-e6fb2d6d25c2",
   "metadata": {},
   "source": [
    "## Queries"
   ]
  },
  {
   "cell_type": "code",
   "execution_count": null,
   "id": "c5838c9c-59c9-4116-b322-81afdb1929bc",
   "metadata": {},
   "outputs": [],
   "source": [
    "### Requête générique qui compte les statements par propriété\n",
    "\n",
    "qp = \"\"\"\n",
    "PREFIX rdf: <http://www.w3.org/1999/02/22-rdf-syntax-ns#>\n",
    "PREFIX rdfs: <http://www.w3.org/2000/01/rdf-schema#>\n",
    "PREFIX owl: <http://www.w3.org/2002/07/owl#>\n",
    "PREFIX xml: <http://www.w3.org/XML/1998/namespace>\n",
    "PREFIX xsd: <http://www.w3.org/2001/XMLSchema#>\n",
    "PREFIX geo: <http://www.opengis.net/ont/geosparql#>\n",
    "PREFIX time: <http://www.w3.org/2006/time#>\n",
    "PREFIX ontome: <https://ontome.net/>\n",
    "PREFIX geov: <http://geovistory.org/resource/>\n",
    "\n",
    "SELECT ?predicate ?label (count(*) as ?eff)\n",
    "WHERE {\n",
    "  ?subject ?predicate ?object .\n",
    "  ?predicate rdfs:label ?label \n",
    "}\n",
    "group by ?predicate ?label\n",
    "order by desc(?eff)\n",
    "\"\"\""
   ]
  },
  {
   "cell_type": "code",
   "execution_count": null,
   "id": "56aaf4f8-2c50-4b47-b0c9-445d626eae10",
   "metadata": {},
   "outputs": [],
   "source": [
    "### Requête générique qui compte les instances de chaque classe\n",
    "\n",
    "qc = \"\"\"\n",
    "PREFIX rdf: <http://www.w3.org/1999/02/22-rdf-syntax-ns#>\n",
    "PREFIX rdfs: <http://www.w3.org/2000/01/rdf-schema#>\n",
    "PREFIX owl: <http://www.w3.org/2002/07/owl#>\n",
    "PREFIX xml: <http://www.w3.org/XML/1998/namespace>\n",
    "PREFIX xsd: <http://www.w3.org/2001/XMLSchema#>\n",
    "PREFIX geo: <http://www.opengis.net/ont/geosparql#>\n",
    "PREFIX time: <http://www.w3.org/2006/time#>\n",
    "PREFIX ontome: <https://ontome.net/>\n",
    "PREFIX geov: <http://geovistory.org/resource/>\n",
    "\n",
    "SELECT ?class ?label (count(*) as ?eff)\n",
    "WHERE {\n",
    "  ?subject a ?class .\n",
    "  ?class rdfs:label ?label \n",
    "}\n",
    "group by ?class ?label\n",
    "order by desc(?eff)\n",
    "\"\"\""
   ]
  },
  {
   "cell_type": "code",
   "execution_count": 37,
   "id": "0a3a7a43-02fe-40be-8423-638389fe69c1",
   "metadata": {},
   "outputs": [],
   "source": [
    "### URI de DBPedia\n",
    "\n",
    "q1 = \"\"\"\n",
    "PREFIX rdf: <http://www.w3.org/1999/02/22-rdf-syntax-ns#>\n",
    "PREFIX rdfs: <http://www.w3.org/2000/01/rdf-schema#>\n",
    "PREFIX owl: <http://www.w3.org/2002/07/owl#>\n",
    "PREFIX xml: <http://www.w3.org/XML/1998/namespace>\n",
    "PREFIX xsd: <http://www.w3.org/2001/XMLSchema#>\n",
    "PREFIX geo: <http://www.opengis.net/ont/geosparql#>\n",
    "PREFIX time: <http://www.w3.org/2006/time#>\n",
    "PREFIX ontome: <https://ontome.net/ontology/>\n",
    "PREFIX geov: <http://geovistory.org/resource/>\n",
    "\n",
    "## get persons and their URIs with birthyear\n",
    "SELECT ?subject ?entityLabel (STR(?birthYear) as ?strYear) ?dbUri\n",
    "\n",
    "WHERE {\n",
    "  ?subject a ontome:c21;\n",
    "       rdfs:label ?entityLabel;\n",
    "      ontome:p1943 / ontome:p1843 ?strUri;\n",
    "     ^ontome:p86 / ontome:p4 / ontome:p72 / time:year ?birthYear.\n",
    " BIND(URI(?strUri) as ?dbUri)\n",
    "}\n",
    "LIMIT 100\n",
    "\"\"\""
   ]
  },
  {
   "cell_type": "code",
   "execution_count": 23,
   "id": "baa1f215-3eb9-4c51-97b7-adc1b4b72865",
   "metadata": {},
   "outputs": [],
   "source": [
    "### Ajouter le lieu de naissance de DBPedia\n",
    "\n",
    "q2 = \"\"\"\n",
    "PREFIX rdf: <http://www.w3.org/1999/02/22-rdf-syntax-ns#>\n",
    "PREFIX rdfs: <http://www.w3.org/2000/01/rdf-schema#>\n",
    "PREFIX owl: <http://www.w3.org/2002/07/owl#>\n",
    "PREFIX xml: <http://www.w3.org/XML/1998/namespace>\n",
    "PREFIX xsd: <http://www.w3.org/2001/XMLSchema#>\n",
    "PREFIX geo: <http://www.opengis.net/ont/geosparql#>\n",
    "PREFIX time: <http://www.w3.org/2006/time#>\n",
    "PREFIX ontome: <https://ontome.net/ontology/>\n",
    "PREFIX geov: <http://geovistory.org/resource/>\n",
    "PREFIX dbo: <http://dbpedia.org/ontology/>\n",
    "\n",
    "SELECT ?subject ?entityLabel (STR(?birthYear) as ?strYear) ?dbUri ?birthPlace\n",
    "\n",
    "WHERE {\n",
    "  ?subject a ontome:c21;\n",
    "       rdfs:label ?entityLabel;\n",
    "      ontome:p1943 / ontome:p1843 ?strUri;\n",
    "     ^ontome:p86 / ontome:p4 / ontome:p72 / time:year ?birthYear.\n",
    " BIND(URI(?strUri) as ?dbUri)\n",
    "  \n",
    "    \n",
    "  SERVICE <https://dbpedia.org/sparql/> {\n",
    "  ?dbUri dbo:birthPlace ?birthPlace\n",
    "  }\n",
    "  \n",
    "}\n",
    "ORDER BY ?subject\n",
    "# LIMIT 100\n",
    "\"\"\""
   ]
  },
  {
   "cell_type": "code",
   "execution_count": 71,
   "id": "c962e6d4-0b7e-4699-8bf7-df2443e09328",
   "metadata": {},
   "outputs": [],
   "source": [
    "### Ajouter le type de lieu de naissance de DBPedia\n",
    "\n",
    "q3 = \"\"\"\n",
    "PREFIX rdf: <http://www.w3.org/1999/02/22-rdf-syntax-ns#>\n",
    "PREFIX rdfs: <http://www.w3.org/2000/01/rdf-schema#>\n",
    "PREFIX owl: <http://www.w3.org/2002/07/owl#>\n",
    "PREFIX xml: <http://www.w3.org/XML/1998/namespace>\n",
    "PREFIX xsd: <http://www.w3.org/2001/XMLSchema#>\n",
    "PREFIX geo: <http://www.opengis.net/ont/geosparql#>\n",
    "PREFIX time: <http://www.w3.org/2006/time#>\n",
    "PREFIX ontome: <https://ontome.net/ontology/>\n",
    "PREFIX geov: <http://geovistory.org/resource/>\n",
    "PREFIX dbo: <http://dbpedia.org/ontology/>\n",
    "\n",
    "SELECT ?subject ?entityLabel (STR(?birthYear) as ?strYear) ?dbUri ?birthPlace ?placeType\n",
    "\n",
    "WHERE {\n",
    "  ?subject a ontome:c21;\n",
    "       rdfs:label ?entityLabel;\n",
    "      ontome:p1943 / ontome:p1843 ?strUri;\n",
    "     ^ontome:p86 / ontome:p4 / ontome:p72 / time:year ?birthYear.\n",
    " BIND(URI(?strUri) as ?dbUri)\n",
    "  \n",
    "    \n",
    "  SERVICE <https://dbpedia.org/sparql/> {\n",
    "  ?dbUri dbo:birthPlace ?birthPlace .\n",
    "  ?birthPlace a ?placeType .\n",
    "  }\n",
    "  \n",
    "}\n",
    "ORDER BY ?subject\n",
    "# LIMIT 100\n",
    "\"\"\""
   ]
  },
  {
   "cell_type": "code",
   "execution_count": 48,
   "id": "ecdc5c69-2409-41ac-8504-8976ff47546d",
   "metadata": {},
   "outputs": [],
   "source": [
    "### Ajouter le type de lieu de naissance de DBPedia\n",
    "\n",
    "q4 = \"\"\"\n",
    "PREFIX rdf: <http://www.w3.org/1999/02/22-rdf-syntax-ns#>\n",
    "PREFIX rdfs: <http://www.w3.org/2000/01/rdf-schema#>\n",
    "PREFIX owl: <http://www.w3.org/2002/07/owl#>\n",
    "PREFIX xml: <http://www.w3.org/XML/1998/namespace>\n",
    "PREFIX xsd: <http://www.w3.org/2001/XMLSchema#>\n",
    "PREFIX geo: <http://www.opengis.net/ont/geosparql#>\n",
    "PREFIX time: <http://www.w3.org/2006/time#>\n",
    "PREFIX ontome: <https://ontome.net/ontology/>\n",
    "PREFIX geov: <http://geovistory.org/resource/>\n",
    "PREFIX dbo: <http://dbpedia.org/ontology/>\n",
    "\n",
    "SELECT ?subject ?entityLabel (STR(?birthYear) as ?strYear) ?dbUri ?abstract\n",
    "WHERE {\n",
    "  ?subject a ontome:c21;\n",
    "       rdfs:label ?entityLabel;\n",
    "      ontome:p1943 / ontome:p1843 ?strUri;\n",
    "     ^ontome:p86 / ontome:p4 / ontome:p72 / time:year ?birthYear.\n",
    " BIND(URI(?strUri) as ?dbUri)\n",
    "  \n",
    "    \n",
    "  SERVICE <https://dbpedia.org/sparql/> {\n",
    "    ?dbUri dbo:abstract ?abstract.\n",
    "    ### https://sodocumentation.net/sparql/topic/5210/working-with-language-tags\n",
    "    FILTER langMatches(lang(?abstract), 'en')\n",
    "    BIND(lang(?abstract) as ?abstractLang)\n",
    "  }\n",
    "  \n",
    "}\n",
    "ORDER BY ?subject\n",
    "# LIMIT 100\n",
    "\"\"\""
   ]
  },
  {
   "cell_type": "markdown",
   "id": "efeff7b1-57d4-4b4e-92f7-1f1a8e7a5abb",
   "metadata": {},
   "source": [
    "## Query execution\n",
    "\n",
    "*  https://sparql.geovistory.org/api_v1_project_153"
   ]
  },
  {
   "cell_type": "code",
   "execution_count": 5,
   "id": "53e4dab1-e617-4ef4-af8e-f33d975fa77e",
   "metadata": {
    "tags": []
   },
   "outputs": [],
   "source": [
    "addr = \"https://sparql.geovistory.org/api_v1_project_153\""
   ]
  },
  {
   "cell_type": "code",
   "execution_count": 67,
   "id": "afd052d5-8faf-4c11-9c70-1e8aec1dd4e7",
   "metadata": {
    "tags": []
   },
   "outputs": [
    {
     "name": "stdout",
     "output_type": "stream",
     "text": [
      "<class 'dict'>\n"
     ]
    }
   ],
   "source": [
    "### Exécuter la requête SPARQL enveloppée par cette fonction, \n",
    "# elle se trouve dans le biliothèque-utilisateur _sparql_functions.py_\n",
    "# le premier paramètre correspond au point d'accès SPARQL, le deuxième à la requête\n",
    "qr = spqf.get_json_sparql_result(addr,q3)"
   ]
  },
  {
   "cell_type": "code",
   "execution_count": 68,
   "id": "530db333-097e-4a90-ba87-73ff46dcc17c",
   "metadata": {},
   "outputs": [
    {
     "data": {
      "text/plain": [
       "47447"
      ]
     },
     "execution_count": 68,
     "metadata": {},
     "output_type": "execute_result"
    }
   ],
   "source": [
    "# Nombre de lignes de la réponse\n",
    "len(qr['results']['bindings'])"
   ]
  },
  {
   "cell_type": "code",
   "execution_count": 72,
   "id": "5166b011-6407-4c59-91ad-084ee97a1d1a",
   "metadata": {
    "scrolled": true,
    "tags": []
   },
   "outputs": [],
   "source": [
    "# Inspecter les n premières lignes du résultat\n",
    "\n",
    "def inspect_n_lines (qr, n = 1):\n",
    "    i = 0\n",
    "    for l in qr['results']['bindings']:\n",
    "        if i < n:\n",
    "            print(l)\n",
    "            i += 1"
   ]
  },
  {
   "cell_type": "code",
   "execution_count": null,
   "id": "29efac05-1178-442c-ade9-25dd313ba9db",
   "metadata": {
    "scrolled": true,
    "tags": []
   },
   "outputs": [],
   "source": [
    "inspect_n_lines (qr, n = 2)"
   ]
  },
  {
   "cell_type": "code",
   "execution_count": 74,
   "id": "231e24cf-e1ee-4f84-b62c-e3b567a89c65",
   "metadata": {
    "scrolled": true
   },
   "outputs": [],
   "source": [
    "# Transformer le résultat en liste en utilisant une autre fonction de la bibliothèque utilisateur\n",
    "r = [l for l in spqf.sparql_result_to_list(qr) ]\n",
    "# r"
   ]
  },
  {
   "cell_type": "code",
   "execution_count": 75,
   "id": "d2f6a72b-1821-4ac1-9100-56a8a9de846e",
   "metadata": {
    "scrolled": true,
    "tags": []
   },
   "outputs": [
    {
     "name": "stdout",
     "output_type": "stream",
     "text": [
      "47447\n"
     ]
    },
    {
     "data": {
      "text/plain": [
       "[['http://geovistory.org/resource/i25894',\n",
       "  'Félix Dupanloup',\n",
       "  '1802',\n",
       "  'http://dbpedia.org/resource/Félix_Dupanloup',\n",
       "  'http://dbpedia.org/resource/Haute-Savoie',\n",
       "  'http://dbpedia.org/class/yago/AdministrativeDistrict108491826'],\n",
       " ['http://geovistory.org/resource/i25894',\n",
       "  'Félix Dupanloup',\n",
       "  '1802',\n",
       "  'http://dbpedia.org/resource/Félix_Dupanloup',\n",
       "  'http://dbpedia.org/resource/Haute-Savoie',\n",
       "  'http://dbpedia.org/class/yago/City108524735']]"
      ]
     },
     "execution_count": 75,
     "metadata": {},
     "output_type": "execute_result"
    }
   ],
   "source": [
    "# inspecter une seule ligne de la liste (de listes)\n",
    "print(len(r))\n",
    "r[:2]"
   ]
  },
  {
   "cell_type": "code",
   "execution_count": 14,
   "id": "95323c68-e209-4e39-a4b7-d0023295b36c",
   "metadata": {},
   "outputs": [],
   "source": []
  },
  {
   "cell_type": "markdown",
   "id": "bc9af012-b71e-40e1-a782-b93b32ca8a88",
   "metadata": {},
   "source": [
    "## Requêtes d'insertion de données dans une base de données SQLite \n",
    "\n",
    "La finalité est d'avoir les données sous la main pour exploration ultérieure\n",
    "\n",
    "La base a été remplie en été 2022"
   ]
  },
  {
   "cell_type": "code",
   "execution_count": 56,
   "id": "395c02de-e200-4840-91da-d8e00a24c608",
   "metadata": {},
   "outputs": [],
   "source": [
    "db_addr = \"proj_153_dbpedia_and_co.sqlite\""
   ]
  },
  {
   "cell_type": "markdown",
   "id": "23b008ac-bf45-4e64-87e4-3720afc388b2",
   "metadata": {},
   "source": [
    "### Personnes avec notices"
   ]
  },
  {
   "cell_type": "code",
   "execution_count": 58,
   "id": "b0446082-b568-4ace-93ba-e722bae5b0bc",
   "metadata": {},
   "outputs": [
    {
     "data": {
      "text/plain": [
       "(1455, 5)"
      ]
     },
     "execution_count": 58,
     "metadata": {},
     "output_type": "execute_result"
    }
   ],
   "source": [
    "proj_153_persons = pd.DataFrame(r) ; proj_153_persons.shape"
   ]
  },
  {
   "cell_type": "code",
   "execution_count": 59,
   "id": "82f01f36-3df2-407a-9fbb-0ccee6fc2506",
   "metadata": {},
   "outputs": [],
   "source": [
    "proj_153_persons.columns = ['gv_uri', 'name', 'birthYear', 'dbpedia_uri', 'dbpedia_abstract']"
   ]
  },
  {
   "cell_type": "code",
   "execution_count": 60,
   "id": "89dcc5e5-ad9b-4895-bb8c-e652eeaa0793",
   "metadata": {},
   "outputs": [
    {
     "data": {
      "text/html": [
       "<div>\n",
       "<style scoped>\n",
       "    .dataframe tbody tr th:only-of-type {\n",
       "        vertical-align: middle;\n",
       "    }\n",
       "\n",
       "    .dataframe tbody tr th {\n",
       "        vertical-align: top;\n",
       "    }\n",
       "\n",
       "    .dataframe thead th {\n",
       "        text-align: right;\n",
       "    }\n",
       "</style>\n",
       "<table border=\"1\" class=\"dataframe\">\n",
       "  <thead>\n",
       "    <tr style=\"text-align: right;\">\n",
       "      <th></th>\n",
       "      <th>gv_uri</th>\n",
       "      <th>name</th>\n",
       "      <th>birthYear</th>\n",
       "      <th>dbpedia_uri</th>\n",
       "      <th>dbpedia_abstract</th>\n",
       "    </tr>\n",
       "  </thead>\n",
       "  <tbody>\n",
       "    <tr>\n",
       "      <th>0</th>\n",
       "      <td>http://geovistory.org/resource/i25892</td>\n",
       "      <td>Quirino Gasparini</td>\n",
       "      <td>1721</td>\n",
       "      <td>http://dbpedia.org/resource/Quirino_Gasparini</td>\n",
       "      <td>Quirino Gasparini (24 October 1721 – 26 Septem...</td>\n",
       "    </tr>\n",
       "    <tr>\n",
       "      <th>1</th>\n",
       "      <td>http://geovistory.org/resource/i25893</td>\n",
       "      <td>Giacomo Vaghi</td>\n",
       "      <td>1901</td>\n",
       "      <td>http://dbpedia.org/resource/Giacomo_Vaghi</td>\n",
       "      <td>Giacomo Vaghi (21 November 1901 - 29 April 197...</td>\n",
       "    </tr>\n",
       "    <tr>\n",
       "      <th>2</th>\n",
       "      <td>http://geovistory.org/resource/i25894</td>\n",
       "      <td>Félix Dupanloup</td>\n",
       "      <td>1802</td>\n",
       "      <td>http://dbpedia.org/resource/Félix_Dupanloup</td>\n",
       "      <td>Mgr. Félix Antoine Philibert Dupanloup (3 Janu...</td>\n",
       "    </tr>\n",
       "  </tbody>\n",
       "</table>\n",
       "</div>"
      ],
      "text/plain": [
       "                                  gv_uri               name birthYear  \\\n",
       "0  http://geovistory.org/resource/i25892  Quirino Gasparini      1721   \n",
       "1  http://geovistory.org/resource/i25893      Giacomo Vaghi      1901   \n",
       "2  http://geovistory.org/resource/i25894    Félix Dupanloup      1802   \n",
       "\n",
       "                                     dbpedia_uri  \\\n",
       "0  http://dbpedia.org/resource/Quirino_Gasparini   \n",
       "1      http://dbpedia.org/resource/Giacomo_Vaghi   \n",
       "2    http://dbpedia.org/resource/Félix_Dupanloup   \n",
       "\n",
       "                                    dbpedia_abstract  \n",
       "0  Quirino Gasparini (24 October 1721 – 26 Septem...  \n",
       "1  Giacomo Vaghi (21 November 1901 - 29 April 197...  \n",
       "2  Mgr. Félix Antoine Philibert Dupanloup (3 Janu...  "
      ]
     },
     "execution_count": 60,
     "metadata": {},
     "output_type": "execute_result"
    }
   ],
   "source": [
    "proj_153_persons.head(3)"
   ]
  },
  {
   "cell_type": "markdown",
   "id": "38e6f3fb-bae0-4f94-bcb3-7313e6579754",
   "metadata": {},
   "source": [
    "### Personnes avec lieux de naissance"
   ]
  },
  {
   "cell_type": "code",
   "execution_count": 77,
   "id": "30bdc5ba-a9b0-490e-ab92-3614a3a5ad7b",
   "metadata": {},
   "outputs": [
    {
     "data": {
      "text/plain": [
       "(47447, 6)"
      ]
     },
     "execution_count": 77,
     "metadata": {},
     "output_type": "execute_result"
    }
   ],
   "source": [
    "proj_153_persons_birthPlaces = pd.DataFrame(r) ; proj_153_persons_birthPlaces.shape"
   ]
  },
  {
   "cell_type": "code",
   "execution_count": 82,
   "id": "51f9ea9b-9722-4253-a503-b2af11bb3eb9",
   "metadata": {},
   "outputs": [
    {
     "name": "stdout",
     "output_type": "stream",
     "text": [
      "<class 'pandas.core.frame.DataFrame'>\n",
      "RangeIndex: 47447 entries, 0 to 47446\n",
      "Data columns (total 6 columns):\n",
      " #   Column  Non-Null Count  Dtype \n",
      "---  ------  --------------  ----- \n",
      " 0   0       47447 non-null  object\n",
      " 1   1       47447 non-null  object\n",
      " 2   2       47447 non-null  object\n",
      " 3   3       47447 non-null  object\n",
      " 4   4       47447 non-null  object\n",
      " 5   5       47447 non-null  object\n",
      "dtypes: object(6)\n",
      "memory usage: 2.2+ MB\n"
     ]
    }
   ],
   "source": [
    "proj_153_persons_birthPlaces.info()"
   ]
  },
  {
   "cell_type": "code",
   "execution_count": 83,
   "id": "f28bdcc5-b3c7-4b43-8270-2fd22672b028",
   "metadata": {},
   "outputs": [
    {
     "data": {
      "text/html": [
       "<div>\n",
       "<style scoped>\n",
       "    .dataframe tbody tr th:only-of-type {\n",
       "        vertical-align: middle;\n",
       "    }\n",
       "\n",
       "    .dataframe tbody tr th {\n",
       "        vertical-align: top;\n",
       "    }\n",
       "\n",
       "    .dataframe thead th {\n",
       "        text-align: right;\n",
       "    }\n",
       "</style>\n",
       "<table border=\"1\" class=\"dataframe\">\n",
       "  <thead>\n",
       "    <tr style=\"text-align: right;\">\n",
       "      <th></th>\n",
       "      <th>0</th>\n",
       "      <th>1</th>\n",
       "      <th>2</th>\n",
       "      <th>3</th>\n",
       "      <th>4</th>\n",
       "      <th>5</th>\n",
       "    </tr>\n",
       "  </thead>\n",
       "  <tbody>\n",
       "    <tr>\n",
       "      <th>0</th>\n",
       "      <td>http://geovistory.org/resource/i25894</td>\n",
       "      <td>Félix Dupanloup</td>\n",
       "      <td>1802</td>\n",
       "      <td>http://dbpedia.org/resource/Félix_Dupanloup</td>\n",
       "      <td>http://dbpedia.org/resource/Haute-Savoie</td>\n",
       "      <td>http://dbpedia.org/class/yago/AdministrativeDi...</td>\n",
       "    </tr>\n",
       "    <tr>\n",
       "      <th>1</th>\n",
       "      <td>http://geovistory.org/resource/i25894</td>\n",
       "      <td>Félix Dupanloup</td>\n",
       "      <td>1802</td>\n",
       "      <td>http://dbpedia.org/resource/Félix_Dupanloup</td>\n",
       "      <td>http://dbpedia.org/resource/Haute-Savoie</td>\n",
       "      <td>http://dbpedia.org/class/yago/City108524735</td>\n",
       "    </tr>\n",
       "  </tbody>\n",
       "</table>\n",
       "</div>"
      ],
      "text/plain": [
       "                                       0                1     2  \\\n",
       "0  http://geovistory.org/resource/i25894  Félix Dupanloup  1802   \n",
       "1  http://geovistory.org/resource/i25894  Félix Dupanloup  1802   \n",
       "\n",
       "                                             3  \\\n",
       "0  http://dbpedia.org/resource/Félix_Dupanloup   \n",
       "1  http://dbpedia.org/resource/Félix_Dupanloup   \n",
       "\n",
       "                                          4  \\\n",
       "0  http://dbpedia.org/resource/Haute-Savoie   \n",
       "1  http://dbpedia.org/resource/Haute-Savoie   \n",
       "\n",
       "                                                   5  \n",
       "0  http://dbpedia.org/class/yago/AdministrativeDi...  \n",
       "1        http://dbpedia.org/class/yago/City108524735  "
      ]
     },
     "execution_count": 83,
     "metadata": {},
     "output_type": "execute_result"
    }
   ],
   "source": [
    "proj_153_persons_birthPlaces.head(2)"
   ]
  },
  {
   "cell_type": "code",
   "execution_count": 84,
   "id": "bdd708b0-4732-454e-b5ed-e161504a3c46",
   "metadata": {},
   "outputs": [],
   "source": [
    "proj_153_persons_birthPlaces.columns = ['gv_uri', 'name', 'birthYear', 'dbpedia_uri', 'dbpedia_birthPlace', 'dbpedia_birthPlaceType']"
   ]
  },
  {
   "cell_type": "code",
   "execution_count": 85,
   "id": "34c7c478-0ecc-452e-9f97-116a83c63f40",
   "metadata": {},
   "outputs": [
    {
     "data": {
      "text/html": [
       "<div>\n",
       "<style scoped>\n",
       "    .dataframe tbody tr th:only-of-type {\n",
       "        vertical-align: middle;\n",
       "    }\n",
       "\n",
       "    .dataframe tbody tr th {\n",
       "        vertical-align: top;\n",
       "    }\n",
       "\n",
       "    .dataframe thead th {\n",
       "        text-align: right;\n",
       "    }\n",
       "</style>\n",
       "<table border=\"1\" class=\"dataframe\">\n",
       "  <thead>\n",
       "    <tr style=\"text-align: right;\">\n",
       "      <th></th>\n",
       "      <th>gv_uri</th>\n",
       "      <th>name</th>\n",
       "      <th>birthYear</th>\n",
       "      <th>dbpedia_uri</th>\n",
       "      <th>dbpedia_birthPlace</th>\n",
       "      <th>dbpedia_birthPlaceType</th>\n",
       "    </tr>\n",
       "  </thead>\n",
       "  <tbody>\n",
       "    <tr>\n",
       "      <th>0</th>\n",
       "      <td>http://geovistory.org/resource/i25894</td>\n",
       "      <td>Félix Dupanloup</td>\n",
       "      <td>1802</td>\n",
       "      <td>http://dbpedia.org/resource/Félix_Dupanloup</td>\n",
       "      <td>http://dbpedia.org/resource/Haute-Savoie</td>\n",
       "      <td>http://dbpedia.org/class/yago/AdministrativeDi...</td>\n",
       "    </tr>\n",
       "    <tr>\n",
       "      <th>1</th>\n",
       "      <td>http://geovistory.org/resource/i25894</td>\n",
       "      <td>Félix Dupanloup</td>\n",
       "      <td>1802</td>\n",
       "      <td>http://dbpedia.org/resource/Félix_Dupanloup</td>\n",
       "      <td>http://dbpedia.org/resource/Haute-Savoie</td>\n",
       "      <td>http://dbpedia.org/class/yago/City108524735</td>\n",
       "    </tr>\n",
       "    <tr>\n",
       "      <th>2</th>\n",
       "      <td>http://geovistory.org/resource/i25894</td>\n",
       "      <td>Félix Dupanloup</td>\n",
       "      <td>1802</td>\n",
       "      <td>http://dbpedia.org/resource/Félix_Dupanloup</td>\n",
       "      <td>http://dbpedia.org/resource/Haute-Savoie</td>\n",
       "      <td>http://dbpedia.org/class/yago/District108552138</td>\n",
       "    </tr>\n",
       "  </tbody>\n",
       "</table>\n",
       "</div>"
      ],
      "text/plain": [
       "                                  gv_uri             name birthYear  \\\n",
       "0  http://geovistory.org/resource/i25894  Félix Dupanloup      1802   \n",
       "1  http://geovistory.org/resource/i25894  Félix Dupanloup      1802   \n",
       "2  http://geovistory.org/resource/i25894  Félix Dupanloup      1802   \n",
       "\n",
       "                                   dbpedia_uri  \\\n",
       "0  http://dbpedia.org/resource/Félix_Dupanloup   \n",
       "1  http://dbpedia.org/resource/Félix_Dupanloup   \n",
       "2  http://dbpedia.org/resource/Félix_Dupanloup   \n",
       "\n",
       "                         dbpedia_birthPlace  \\\n",
       "0  http://dbpedia.org/resource/Haute-Savoie   \n",
       "1  http://dbpedia.org/resource/Haute-Savoie   \n",
       "2  http://dbpedia.org/resource/Haute-Savoie   \n",
       "\n",
       "                              dbpedia_birthPlaceType  \n",
       "0  http://dbpedia.org/class/yago/AdministrativeDi...  \n",
       "1        http://dbpedia.org/class/yago/City108524735  \n",
       "2    http://dbpedia.org/class/yago/District108552138  "
      ]
     },
     "execution_count": 85,
     "metadata": {},
     "output_type": "execute_result"
    }
   ],
   "source": [
    "proj_153_persons_birthPlaces.head(3)"
   ]
  },
  {
   "cell_type": "code",
   "execution_count": null,
   "id": "d694fbe4-811c-4ae1-a748-bb57c68c996c",
   "metadata": {},
   "outputs": [],
   "source": []
  },
  {
   "cell_type": "code",
   "execution_count": 87,
   "id": "ced5c8ff-2e50-4abb-aca4-efcf691b2a56",
   "metadata": {},
   "outputs": [],
   "source": [
    "conn = sql.connect(db_addr)"
   ]
  },
  {
   "cell_type": "code",
   "execution_count": 65,
   "id": "a8a091e0-e8e8-473b-a032-cab6055d6ff1",
   "metadata": {},
   "outputs": [],
   "source": [
    "### Décommenter si nécessaire\n",
    "## proj_153_persons.to_sql('proj_153_persons', conn, if_exists='replace', index=False)"
   ]
  },
  {
   "cell_type": "code",
   "execution_count": 88,
   "id": "7c99fe77-78d7-4304-bbcb-27bfa6b1ae03",
   "metadata": {},
   "outputs": [
    {
     "data": {
      "text/plain": [
       "47447"
      ]
     },
     "execution_count": 88,
     "metadata": {},
     "output_type": "execute_result"
    }
   ],
   "source": [
    "### Décommenter si nécessaire\n",
    "## proj_153_persons_birthPlaces.to_sql('proj_153_persons_birthPlaces', conn, if_exists='replace', index=False)"
   ]
  },
  {
   "cell_type": "code",
   "execution_count": 89,
   "id": "8870d83b-b884-4dc6-92f7-a56d4b9c8cb8",
   "metadata": {},
   "outputs": [],
   "source": [
    "conn.close()"
   ]
  },
  {
   "cell_type": "code",
   "execution_count": null,
   "id": "7ed694ca-f196-48ab-9449-a55ce5298f73",
   "metadata": {},
   "outputs": [],
   "source": []
  },
  {
   "cell_type": "code",
   "execution_count": null,
   "id": "26a080d4-bb4c-4a06-8cb9-11be7d032255",
   "metadata": {},
   "outputs": [],
   "source": []
  },
  {
   "cell_type": "code",
   "execution_count": 91,
   "id": "3220b4ad-05f5-413b-a0cf-d253c38faefb",
   "metadata": {},
   "outputs": [],
   "source": [
    "cn = sql.connect(db_addr)"
   ]
  },
  {
   "cell_type": "code",
   "execution_count": 92,
   "id": "4f67e3aa-2896-412c-bfb7-7db42abe072b",
   "metadata": {},
   "outputs": [],
   "source": [
    "### Décommenter si nécessaire\n",
    "q = \"\"\"\n",
    "WITH tw1 AS (\n",
    "SELECT DISTINCT dbpedia_uri, dbpedia_birthPlace \n",
    "FROM proj_153_persons_birthPlaces\n",
    ")\n",
    "SELECT dbpedia_uri, COUNT(*) AS eff, group_concat(dbpedia_birthPlace, ' | ')\n",
    "FROM tw1 \n",
    "GROUP BY dbpedia_uri \n",
    "HAVING COUNT(*) > 1\n",
    "ORDER BY eff DESC; \n",
    "\"\"\""
   ]
  },
  {
   "cell_type": "code",
   "execution_count": 93,
   "id": "07f6b4f4-4de7-446f-9c8d-8a8cf31fddb2",
   "metadata": {},
   "outputs": [
    {
     "data": {
      "text/plain": [
       "<sqlite3.Cursor at 0x7f4aec37d040>"
      ]
     },
     "execution_count": 93,
     "metadata": {},
     "output_type": "execute_result"
    }
   ],
   "source": [
    "### Création du conteneur du résultat de la requête\n",
    "cur = cn.cursor()\n",
    "cur"
   ]
  },
  {
   "cell_type": "code",
   "execution_count": 95,
   "id": "9dc42321-4ba1-41bd-a2c5-3a42b2ca99bd",
   "metadata": {},
   "outputs": [],
   "source": [
    "### Exécuter la requête et récupérer le résultat\n",
    "cur.execute(q)\n",
    "# La méthode 'fetchall' permet de récupérer toutes les lignes\n",
    "r = cur.fetchall()"
   ]
  },
  {
   "cell_type": "code",
   "execution_count": 101,
   "id": "20d851fa-8cc3-4592-8b46-d53b7138067c",
   "metadata": {},
   "outputs": [],
   "source": [
    "conn.close()"
   ]
  },
  {
   "cell_type": "code",
   "execution_count": 102,
   "id": "80436c62-a3b3-48f8-93b0-3a70a5a85a6a",
   "metadata": {},
   "outputs": [
    {
     "name": "stdout",
     "output_type": "stream",
     "text": [
      "544 \n",
      "-----\n",
      " [('http://dbpedia.org/resource/Rachel_Félix', 4, 'http://dbpedia.org/resource/Aargau | http://dbpedia.org/resource/Mumpf | http://dbpedia.org/resource/Rheinfelden_(Aargau) | http://dbpedia.org/resource/Switzerland'), ('http://dbpedia.org/resource/Léon_Bel', 4, 'http://dbpedia.org/resource/France | http://dbpedia.org/resource/Franche-Comté | http://dbpedia.org/resource/Jura_(department) | http://dbpedia.org/resource/Orgelet'), ('http://dbpedia.org/resource/Jules_Bel', 4, 'http://dbpedia.org/resource/Chambéria | http://dbpedia.org/resource/France | http://dbpedia.org/resource/Franche-Comté | http://dbpedia.org/resource/Jura_(department)'), ('http://dbpedia.org/resource/Gustave_Colin', 4, 'http://dbpedia.org/resource/Doubs | http://dbpedia.org/resource/France | http://dbpedia.org/resource/Franche-Comté | http://dbpedia.org/resource/Pontarlier'), ('http://dbpedia.org/resource/Gertrud_Wolle', 4, 'http://dbpedia.org/resource/Alsace | http://dbpedia.org/resource/Arrondissement_of_Thann | http://dbpedia.org/resource/Germany | http://dbpedia.org/resource/Urbès')]\n"
     ]
    }
   ],
   "source": [
    "### Inspecter le résultat:\n",
    "# longueur, type du résultat et premières lignes du résultat\n",
    "# On observe qu'il y a des trous et des répétitions:\n",
    "# plusieurs personnes on la même année de naissance\n",
    "print(len(r), '\\n-----\\n', r[:5])"
   ]
  },
  {
   "cell_type": "code",
   "execution_count": 103,
   "id": "eaa5c19b-2421-46da-b915-947939497880",
   "metadata": {},
   "outputs": [
    {
     "data": {
      "text/plain": [
       "[(4,\n",
       "  'http://dbpedia.org/resource/Aargau | http://dbpedia.org/resource/Mumpf | http://dbpedia.org/resource/Rheinfelden_(Aargau) | http://dbpedia.org/resource/Switzerland'),\n",
       " (4,\n",
       "  'http://dbpedia.org/resource/France | http://dbpedia.org/resource/Franche-Comté | http://dbpedia.org/resource/Jura_(department) | http://dbpedia.org/resource/Orgelet'),\n",
       " (4,\n",
       "  'http://dbpedia.org/resource/Chambéria | http://dbpedia.org/resource/France | http://dbpedia.org/resource/Franche-Comté | http://dbpedia.org/resource/Jura_(department)'),\n",
       " (4,\n",
       "  'http://dbpedia.org/resource/Doubs | http://dbpedia.org/resource/France | http://dbpedia.org/resource/Franche-Comté | http://dbpedia.org/resource/Pontarlier'),\n",
       " (4,\n",
       "  'http://dbpedia.org/resource/Alsace | http://dbpedia.org/resource/Arrondissement_of_Thann | http://dbpedia.org/resource/Germany | http://dbpedia.org/resource/Urbès')]"
      ]
     },
     "execution_count": 103,
     "metadata": {},
     "output_type": "execute_result"
    }
   ],
   "source": [
    "[e[1:] for e in r[:5]]"
   ]
  },
  {
   "cell_type": "code",
   "execution_count": null,
   "id": "576d47d8-be03-471a-9d5b-ef53b709e77e",
   "metadata": {},
   "outputs": [],
   "source": []
  },
  {
   "cell_type": "code",
   "execution_count": null,
   "id": "057242e4-142c-4e72-8065-348cb7634f3c",
   "metadata": {},
   "outputs": [],
   "source": []
  },
  {
   "cell_type": "code",
   "execution_count": null,
   "id": "e8a8120e-23c7-4e2d-956d-222d4122cffe",
   "metadata": {},
   "outputs": [],
   "source": []
  },
  {
   "cell_type": "code",
   "execution_count": null,
   "id": "90d1bc31-76f8-4a46-be24-8f29e2a83ca5",
   "metadata": {},
   "outputs": [],
   "source": []
  },
  {
   "cell_type": "code",
   "execution_count": null,
   "id": "7aa953b3-a4b0-48f0-b3e9-d73540abef6d",
   "metadata": {},
   "outputs": [],
   "source": []
  },
  {
   "cell_type": "code",
   "execution_count": null,
   "id": "4e4eed6e-5744-4cc3-b892-00ef96948216",
   "metadata": {},
   "outputs": [],
   "source": []
  },
  {
   "cell_type": "code",
   "execution_count": null,
   "id": "f627aaaf-4c71-483e-9251-bc18bde219da",
   "metadata": {},
   "outputs": [],
   "source": []
  },
  {
   "cell_type": "code",
   "execution_count": null,
   "id": "9043b1f4-f85b-42c2-9f0c-4f87fc528064",
   "metadata": {},
   "outputs": [],
   "source": []
  }
 ],
 "metadata": {
  "kernelspec": {
   "display_name": "Py3.10 sparql",
   "language": "python",
   "name": "py310_sparql"
  },
  "language_info": {
   "codemirror_mode": {
    "name": "ipython",
    "version": 3
   },
   "file_extension": ".py",
   "mimetype": "text/x-python",
   "name": "python",
   "nbconvert_exporter": "python",
   "pygments_lexer": "ipython3",
   "version": "3.10.9"
  },
  "vscode": {
   "interpreter": {
    "hash": "916dbcbb3f70747c44a77c7bcd40155683ae19c65e1c03b4aa3499c5328201f1"
   }
  }
 },
 "nbformat": 4,
 "nbformat_minor": 5
}
